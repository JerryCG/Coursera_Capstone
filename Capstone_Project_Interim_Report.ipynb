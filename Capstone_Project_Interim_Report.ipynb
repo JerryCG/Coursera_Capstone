{
  "nbformat": 4,
  "nbformat_minor": 0,
  "metadata": {
    "colab": {
      "name": "Capstone_Project_Interim_Report.ipynb",
      "provenance": [],
      "authorship_tag": "ABX9TyNKajzPepkJdv49+cbD2xu6",
      "include_colab_link": true
    },
    "kernelspec": {
      "name": "python3",
      "display_name": "Python 3"
    },
    "language_info": {
      "name": "python"
    }
  },
  "cells": [
    {
      "cell_type": "markdown",
      "metadata": {
        "id": "view-in-github",
        "colab_type": "text"
      },
      "source": [
        "<a href=\"https://colab.research.google.com/github/JerryCG/Coursera_Capstone/blob/main/Capstone_Project_Interim_Report.ipynb\" target=\"_parent\"><img src=\"https://colab.research.google.com/assets/colab-badge.svg\" alt=\"Open In Colab\"/></a>"
      ]
    },
    {
      "cell_type": "markdown",
      "metadata": {
        "id": "_-03UbCM3Ngv"
      },
      "source": [
        "# **Interim Report | Capstone Project – The Battle of Neighborhoods: Exporing Boston and Find the Best Place to Open a Restaurant**"
      ]
    },
    {
      "cell_type": "markdown",
      "metadata": {
        "id": "JR8brT0s4IHl"
      },
      "source": [
        "### **1. Business Problem**"
      ]
    },
    {
      "cell_type": "markdown",
      "metadata": {
        "id": "9pTXj56i6UnN"
      },
      "source": [
        "This project is aimed to explore Boston and try to find the best place that is suitable for opening a restaurant. By analyzing the neighborhoods in detail, this report can hopefully provide some insights about which neighborhood is better to earn profits if opening a restaurant. The evaluating criteria may involve the population, income, competitors, suppliers, etc."
      ]
    },
    {
      "cell_type": "markdown",
      "metadata": {
        "id": "zvL1gRxM84BS"
      },
      "source": [
        "### **2. Data**"
      ]
    },
    {
      "cell_type": "markdown",
      "metadata": {
        "id": "Ut42QyhK9ZuB"
      },
      "source": [
        "First, the Foursquare location data will be used to analyze the neighborhoods' geographic information. After finding some suitable neighborhood geographically, then we compare other information about the area's size, population density, income per capita, etc. Finally, the best neighborhood to open a restaurant is suggested based all the information and analysis we have."
      ]
    }
  ]
}