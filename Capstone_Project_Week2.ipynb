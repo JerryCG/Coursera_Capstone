{
  "nbformat": 4,
  "nbformat_minor": 0,
  "metadata": {
    "colab": {
      "name": "Capstone_Project_Week2.ipynb",
      "provenance": [],
      "authorship_tag": "ABX9TyMrv7zSSCJcAuuu1dwiP0pI",
      "include_colab_link": true
    },
    "kernelspec": {
      "name": "python3",
      "display_name": "Python 3"
    },
    "language_info": {
      "name": "python"
    }
  },
  "cells": [
    {
      "cell_type": "markdown",
      "metadata": {
        "id": "view-in-github",
        "colab_type": "text"
      },
      "source": [
        "<a href=\"https://colab.research.google.com/github/JerryCG/Coursera_Capstone/blob/main/Capstone_Project_Week2.ipynb\" target=\"_parent\"><img src=\"https://colab.research.google.com/assets/colab-badge.svg\" alt=\"Open In Colab\"/></a>"
      ]
    },
    {
      "cell_type": "markdown",
      "metadata": {
        "id": "_-03UbCM3Ngv"
      },
      "source": [
        "# **Capstone Project – The Battle of Neighborhoods: Exploring Boston and Find the Best Place to Open a Chinese Restaurant (Week2)**"
      ]
    },
    {
      "cell_type": "markdown",
      "metadata": {
        "id": "K9ULPolRIIgg"
      },
      "source": [
        "## Table of contents\n",
        "* [Introduction: Business Problem](#introduction)\n",
        "* [Data](#data)\n",
        "* [Methodology](#methodology)\n",
        "* [Analysis](#analysis)\n",
        "* [Results and Discussion](#results)\n",
        "* [Conclusion](#conclusion)"
      ]
    },
    {
      "cell_type": "markdown",
      "metadata": {
        "id": "JR8brT0s4IHl"
      },
      "source": [
        "### **1. Business Problem**"
      ]
    },
    {
      "cell_type": "markdown",
      "metadata": {
        "id": "9pTXj56i6UnN"
      },
      "source": [
        "This project is aimed to explore Boston and find the best place for opening a restaurant. To be more specific, the project is targeted at audience with an interest of opening a **Chinese** restaurant in **Boston, MA, USA**.\n",
        "\n",
        "Considering the compeititon environment, it is optimal to find a region where **not so many restaurants exist**, **especially Chinese-style restaurants**. Moreover, the **closer to the city center**, the more likely the restaurant can gain enough customers and profits, which is also an important consideration in this project.\n",
        "\n",
        "A few candidate neighborhoods in Boston will be recommended. Analysis of advantages and disadvantages of these neighborhoods will be discussed in detail."
      ]
    },
    {
      "cell_type": "markdown",
      "metadata": {
        "id": "zvL1gRxM84BS"
      },
      "source": [
        "### **2. Data**"
      ]
    },
    {
      "cell_type": "markdown",
      "metadata": {
        "id": "Ut42QyhK9ZuB"
      },
      "source": [
        "According to the definition of the business problem, there are several factors that are related to our analysis:\n",
        "* number of existing restaurants in the neighborhood\n",
        "* number of and distance to Chinese restaurants in the neighborhood\n",
        "* distance of neighborhood from city center\n",
        "\n",
        "Following data sources will be needed to extract/generate the required information:\n",
        "* geographical coordinates of all the neighborhoods are obtained from the Internet\n",
        "* number of restaurants, the type and location in every neighborhood will be obtained using **Foursquare API**\n",
        "* coordinate of Boston center will be obtained using **geopy**, using the location of Faneuil Hall Marketplace in Downtown, Boston."
      ]
    },
    {
      "cell_type": "markdown",
      "metadata": {
        "id": "7gKsnfOBPS2M"
      },
      "source": [
        "*Load and examine the data of Boston neighborhoods*"
      ]
    },
    {
      "cell_type": "code",
      "metadata": {
        "colab": {
          "base_uri": "https://localhost:8080/"
        },
        "id": "JZu7G_uGPsFt",
        "outputId": "e21b8c0c-1705-4230-d80d-630e717bd230"
      },
      "source": [
        "from google.colab import drive\n",
        "import os\n",
        "import pandas as pd\n",
        "drive.mount('/content/gdrive')\n",
        "file_path = '/content/gdrive/My Drive/Data_Science/5_Applied Data Science Capstone/'"
      ],
      "execution_count": 1,
      "outputs": [
        {
          "output_type": "stream",
          "text": [
            "Drive already mounted at /content/gdrive; to attempt to forcibly remount, call drive.mount(\"/content/gdrive\", force_remount=True).\n"
          ],
          "name": "stdout"
        }
      ]
    },
    {
      "cell_type": "code",
      "metadata": {
        "id": "xgTtKLzJ1D07"
      },
      "source": [
        "os.chdir(file_path)"
      ],
      "execution_count": 2,
      "outputs": []
    },
    {
      "cell_type": "code",
      "metadata": {
        "id": "veNETOUiP5kj"
      },
      "source": [
        "df = pd.read_csv('Boston_Neighborhoods.csv', encoding= 'unicode_escape')"
      ],
      "execution_count": 3,
      "outputs": []
    },
    {
      "cell_type": "code",
      "metadata": {
        "colab": {
          "base_uri": "https://localhost:8080/",
          "height": 206
        },
        "id": "ortWW3ZcQN9D",
        "outputId": "d41353ee-9b73-4c27-ad1f-6a78a1caf56c"
      },
      "source": [
        "df.head()"
      ],
      "execution_count": 4,
      "outputs": [
        {
          "output_type": "execute_result",
          "data": {
            "text/html": [
              "<div>\n",
              "<style scoped>\n",
              "    .dataframe tbody tr th:only-of-type {\n",
              "        vertical-align: middle;\n",
              "    }\n",
              "\n",
              "    .dataframe tbody tr th {\n",
              "        vertical-align: top;\n",
              "    }\n",
              "\n",
              "    .dataframe thead th {\n",
              "        text-align: right;\n",
              "    }\n",
              "</style>\n",
              "<table border=\"1\" class=\"dataframe\">\n",
              "  <thead>\n",
              "    <tr style=\"text-align: right;\">\n",
              "      <th></th>\n",
              "      <th>Neighborhood</th>\n",
              "      <th>Latitude</th>\n",
              "      <th>Longitude</th>\n",
              "    </tr>\n",
              "  </thead>\n",
              "  <tbody>\n",
              "    <tr>\n",
              "      <th>0</th>\n",
              "      <td>Roslindale</td>\n",
              "      <td>42.2832</td>\n",
              "      <td>-71.1270</td>\n",
              "    </tr>\n",
              "    <tr>\n",
              "      <th>1</th>\n",
              "      <td>Jamaica Plain</td>\n",
              "      <td>42.3097</td>\n",
              "      <td>-71.1151</td>\n",
              "    </tr>\n",
              "    <tr>\n",
              "      <th>2</th>\n",
              "      <td>Mission Hill</td>\n",
              "      <td>42.3296</td>\n",
              "      <td>-71.1062</td>\n",
              "    </tr>\n",
              "    <tr>\n",
              "      <th>3</th>\n",
              "      <td>Bay Village</td>\n",
              "      <td>42.3490</td>\n",
              "      <td>-71.0698</td>\n",
              "    </tr>\n",
              "    <tr>\n",
              "      <th>4</th>\n",
              "      <td>Chinatown</td>\n",
              "      <td>42.3501</td>\n",
              "      <td>-71.0624</td>\n",
              "    </tr>\n",
              "  </tbody>\n",
              "</table>\n",
              "</div>"
            ],
            "text/plain": [
              "    Neighborhood  Latitude  Longitude\n",
              "0     Roslindale   42.2832   -71.1270\n",
              "1  Jamaica Plain   42.3097   -71.1151\n",
              "2   Mission Hill   42.3296   -71.1062\n",
              "3    Bay Village   42.3490   -71.0698\n",
              "4      Chinatown   42.3501   -71.0624"
            ]
          },
          "metadata": {
            "tags": []
          },
          "execution_count": 4
        }
      ]
    },
    {
      "cell_type": "code",
      "metadata": {
        "colab": {
          "base_uri": "https://localhost:8080/"
        },
        "id": "P7TZ-RhnQk_b",
        "outputId": "2e0578ce-b92e-4a54-95d1-82cef38b5132"
      },
      "source": [
        "print('Boston has {} neighborhoods.'.format(\n",
        "        df.shape[0]\n",
        "    )\n",
        ")"
      ],
      "execution_count": 5,
      "outputs": [
        {
          "output_type": "stream",
          "text": [
            "Boston has 23 neighborhoods.\n"
          ],
          "name": "stdout"
        }
      ]
    },
    {
      "cell_type": "markdown",
      "metadata": {
        "id": "2fV7W2JQRNKb"
      },
      "source": [
        "*Import all the libraries needed for analysis*"
      ]
    },
    {
      "cell_type": "code",
      "metadata": {
        "id": "OgJ2Ag3VRMoi"
      },
      "source": [
        "import numpy as np \n",
        "from geopy.geocoders import Nominatim\n",
        "import requests\n",
        "import matplotlib.cm as cm\n",
        "import matplotlib.colors as colors\n",
        "import folium\n",
        "import json\n",
        "from pandas.io.json import json_normalize"
      ],
      "execution_count": 6,
      "outputs": []
    },
    {
      "cell_type": "markdown",
      "metadata": {
        "id": "TY5lLaqiQ7gG"
      },
      "source": [
        "*Use geopy library to get the latitude and longitude values of Boston.*"
      ]
    },
    {
      "cell_type": "code",
      "metadata": {
        "colab": {
          "base_uri": "https://localhost:8080/"
        },
        "id": "JSWolU9NQ_7h",
        "outputId": "6a8af4a6-781a-45fc-b8cb-b3b54b3d1156"
      },
      "source": [
        "address = 'Boston, BOS'\n",
        "\n",
        "geolocator = Nominatim(user_agent=\"ny_explorer\")\n",
        "location = geolocator.geocode(address)\n",
        "latitude = location.latitude\n",
        "longitude = location.longitude\n",
        "print('The geograpical coordinate of Boston are {}, {}.'.format(latitude, longitude))"
      ],
      "execution_count": 7,
      "outputs": [
        {
          "output_type": "stream",
          "text": [
            "The geograpical coordinate of Boston are 42.3630236, -71.01340798670637.\n"
          ],
          "name": "stdout"
        }
      ]
    },
    {
      "cell_type": "markdown",
      "metadata": {
        "id": "V04rW2-NR3-L"
      },
      "source": [
        "*Create a map of Boston with neighborhoods superimposed on top.*"
      ]
    },
    {
      "cell_type": "code",
      "metadata": {
        "colab": {
          "base_uri": "https://localhost:8080/",
          "height": 712
        },
        "id": "wDQ3yUdBR9HJ",
        "outputId": "097e8ba7-5fe2-43bc-dedb-bf7df94ed269"
      },
      "source": [
        "map_boston = folium.Map(location=[latitude, longitude], zoom_start=10)\n",
        "\n",
        "# add markers to map\n",
        "for lat, lng, neighborhood in zip(df['Latitude'], df['Longitude'], df['Neighborhood']):\n",
        "    label = '{}'.format(neighborhood)\n",
        "    label = folium.Popup(label, parse_html=True)\n",
        "    folium.CircleMarker(\n",
        "        [lat, lng],\n",
        "        radius=5,\n",
        "        popup=label,\n",
        "        color='blue',\n",
        "        fill=True,\n",
        "        fill_color='#3186cc',\n",
        "        fill_opacity=0.7,\n",
        "        parse_html=False).add_to(map_boston)  \n",
        "    \n",
        "map_boston"
      ],
      "execution_count": 8,
      "outputs": [
        {
          "output_type": "execute_result",
          "data": {
            "text/html": [
              "<div style=\"width:100%;\"><div style=\"position:relative;width:100%;height:0;padding-bottom:60%;\"><span style=\"color:#565656\">Make this Notebook Trusted to load map: File -> Trust Notebook</span><iframe src=\"about:blank\" style=\"position:absolute;width:100%;height:100%;left:0;top:0;border:none !important;\" data-html=%3C%21DOCTYPE%20html%3E%0A%3Chead%3E%20%20%20%20%0A%20%20%20%20%3Cmeta%20http-equiv%3D%22content-type%22%20content%3D%22text/html%3B%20charset%3DUTF-8%22%20/%3E%0A%20%20%20%20%3Cscript%3EL_PREFER_CANVAS%3Dfalse%3B%20L_NO_TOUCH%3Dfalse%3B%20L_DISABLE_3D%3Dfalse%3B%3C/script%3E%0A%20%20%20%20%3Cscript%20src%3D%22https%3A//cdn.jsdelivr.net/npm/leaflet%401.4.0/dist/leaflet.js%22%3E%3C/script%3E%0A%20%20%20%20%3Cscript%20src%3D%22https%3A//code.jquery.com/jquery-1.12.4.min.js%22%3E%3C/script%3E%0A%20%20%20%20%3Cscript%20src%3D%22https%3A//maxcdn.bootstrapcdn.com/bootstrap/3.2.0/js/bootstrap.min.js%22%3E%3C/script%3E%0A%20%20%20%20%3Cscript%20src%3D%22https%3A//cdnjs.cloudflare.com/ajax/libs/Leaflet.awesome-markers/2.0.2/leaflet.awesome-markers.js%22%3E%3C/script%3E%0A%20%20%20%20%3Clink%20rel%3D%22stylesheet%22%20href%3D%22https%3A//cdn.jsdelivr.net/npm/leaflet%401.4.0/dist/leaflet.css%22/%3E%0A%20%20%20%20%3Clink%20rel%3D%22stylesheet%22%20href%3D%22https%3A//maxcdn.bootstrapcdn.com/bootstrap/3.2.0/css/bootstrap.min.css%22/%3E%0A%20%20%20%20%3Clink%20rel%3D%22stylesheet%22%20href%3D%22https%3A//maxcdn.bootstrapcdn.com/bootstrap/3.2.0/css/bootstrap-theme.min.css%22/%3E%0A%20%20%20%20%3Clink%20rel%3D%22stylesheet%22%20href%3D%22https%3A//maxcdn.bootstrapcdn.com/font-awesome/4.6.3/css/font-awesome.min.css%22/%3E%0A%20%20%20%20%3Clink%20rel%3D%22stylesheet%22%20href%3D%22https%3A//cdnjs.cloudflare.com/ajax/libs/Leaflet.awesome-markers/2.0.2/leaflet.awesome-markers.css%22/%3E%0A%20%20%20%20%3Clink%20rel%3D%22stylesheet%22%20href%3D%22https%3A//rawcdn.githack.com/python-visualization/folium/master/folium/templates/leaflet.awesome.rotate.css%22/%3E%0A%20%20%20%20%3Cstyle%3Ehtml%2C%20body%20%7Bwidth%3A%20100%25%3Bheight%3A%20100%25%3Bmargin%3A%200%3Bpadding%3A%200%3B%7D%3C/style%3E%0A%20%20%20%20%3Cstyle%3E%23map%20%7Bposition%3Aabsolute%3Btop%3A0%3Bbottom%3A0%3Bright%3A0%3Bleft%3A0%3B%7D%3C/style%3E%0A%20%20%20%20%0A%20%20%20%20%3Cmeta%20name%3D%22viewport%22%20content%3D%22width%3Ddevice-width%2C%0A%20%20%20%20%20%20%20%20initial-scale%3D1.0%2C%20maximum-scale%3D1.0%2C%20user-scalable%3Dno%22%20/%3E%0A%20%20%20%20%3Cstyle%3E%23map_58d791b9b5b143238a7c24fa08f7fb8c%20%7B%0A%20%20%20%20%20%20%20%20position%3A%20relative%3B%0A%20%20%20%20%20%20%20%20width%3A%20100.0%25%3B%0A%20%20%20%20%20%20%20%20height%3A%20100.0%25%3B%0A%20%20%20%20%20%20%20%20left%3A%200.0%25%3B%0A%20%20%20%20%20%20%20%20top%3A%200.0%25%3B%0A%20%20%20%20%20%20%20%20%7D%0A%20%20%20%20%3C/style%3E%0A%3C/head%3E%0A%3Cbody%3E%20%20%20%20%0A%20%20%20%20%0A%20%20%20%20%3Cdiv%20class%3D%22folium-map%22%20id%3D%22map_58d791b9b5b143238a7c24fa08f7fb8c%22%20%3E%3C/div%3E%0A%3C/body%3E%0A%3Cscript%3E%20%20%20%20%0A%20%20%20%20%0A%20%20%20%20%0A%20%20%20%20%20%20%20%20var%20bounds%20%3D%20null%3B%0A%20%20%20%20%0A%0A%20%20%20%20var%20map_58d791b9b5b143238a7c24fa08f7fb8c%20%3D%20L.map%28%0A%20%20%20%20%20%20%20%20%27map_58d791b9b5b143238a7c24fa08f7fb8c%27%2C%20%7B%0A%20%20%20%20%20%20%20%20center%3A%20%5B42.3630236%2C%20-71.01340798670637%5D%2C%0A%20%20%20%20%20%20%20%20zoom%3A%2010%2C%0A%20%20%20%20%20%20%20%20maxBounds%3A%20bounds%2C%0A%20%20%20%20%20%20%20%20layers%3A%20%5B%5D%2C%0A%20%20%20%20%20%20%20%20worldCopyJump%3A%20false%2C%0A%20%20%20%20%20%20%20%20crs%3A%20L.CRS.EPSG3857%2C%0A%20%20%20%20%20%20%20%20zoomControl%3A%20true%2C%0A%20%20%20%20%20%20%20%20%7D%29%3B%0A%0A%0A%20%20%20%20%0A%20%20%20%20var%20tile_layer_526d2b0ae668409cbf9836bb0a9b94a2%20%3D%20L.tileLayer%28%0A%20%20%20%20%20%20%20%20%27https%3A//%7Bs%7D.tile.openstreetmap.org/%7Bz%7D/%7Bx%7D/%7By%7D.png%27%2C%0A%20%20%20%20%20%20%20%20%7B%0A%20%20%20%20%20%20%20%20%22attribution%22%3A%20null%2C%0A%20%20%20%20%20%20%20%20%22detectRetina%22%3A%20false%2C%0A%20%20%20%20%20%20%20%20%22maxNativeZoom%22%3A%2018%2C%0A%20%20%20%20%20%20%20%20%22maxZoom%22%3A%2018%2C%0A%20%20%20%20%20%20%20%20%22minZoom%22%3A%200%2C%0A%20%20%20%20%20%20%20%20%22noWrap%22%3A%20false%2C%0A%20%20%20%20%20%20%20%20%22opacity%22%3A%201%2C%0A%20%20%20%20%20%20%20%20%22subdomains%22%3A%20%22abc%22%2C%0A%20%20%20%20%20%20%20%20%22tms%22%3A%20false%0A%7D%29.addTo%28map_58d791b9b5b143238a7c24fa08f7fb8c%29%3B%0A%20%20%20%20%0A%20%20%20%20%20%20%20%20%20%20%20%20var%20circle_marker_b4aa20269c1c44b3b978827d84e8c502%20%3D%20L.circleMarker%28%0A%20%20%20%20%20%20%20%20%20%20%20%20%20%20%20%20%5B42.2832%2C%20-71.127%5D%2C%0A%20%20%20%20%20%20%20%20%20%20%20%20%20%20%20%20%7B%0A%20%20%22bubblingMouseEvents%22%3A%20true%2C%0A%20%20%22color%22%3A%20%22blue%22%2C%0A%20%20%22dashArray%22%3A%20null%2C%0A%20%20%22dashOffset%22%3A%20null%2C%0A%20%20%22fill%22%3A%20true%2C%0A%20%20%22fillColor%22%3A%20%22%233186cc%22%2C%0A%20%20%22fillOpacity%22%3A%200.7%2C%0A%20%20%22fillRule%22%3A%20%22evenodd%22%2C%0A%20%20%22lineCap%22%3A%20%22round%22%2C%0A%20%20%22lineJoin%22%3A%20%22round%22%2C%0A%20%20%22opacity%22%3A%201.0%2C%0A%20%20%22radius%22%3A%205%2C%0A%20%20%22stroke%22%3A%20true%2C%0A%20%20%22weight%22%3A%203%0A%7D%0A%20%20%20%20%20%20%20%20%20%20%20%20%20%20%20%20%29%0A%20%20%20%20%20%20%20%20%20%20%20%20%20%20%20%20.addTo%28map_58d791b9b5b143238a7c24fa08f7fb8c%29%3B%0A%20%20%20%20%20%20%20%20%20%20%20%20%0A%20%20%20%20%0A%20%20%20%20%20%20%20%20%20%20%20%20var%20popup_ac4d50054f9240cdb399cca29e733b1b%20%3D%20L.popup%28%7BmaxWidth%3A%20%27100%25%27%0A%20%20%20%20%20%20%20%20%20%20%20%20%0A%20%20%20%20%20%20%20%20%20%20%20%20%7D%29%3B%0A%0A%20%20%20%20%20%20%20%20%20%20%20%20%0A%20%20%20%20%20%20%20%20%20%20%20%20%20%20%20%20var%20html_af5c157445f04becaf195a47ce0cd704%20%3D%20%24%28%60%3Cdiv%20id%3D%22html_af5c157445f04becaf195a47ce0cd704%22%20style%3D%22width%3A%20100.0%25%3B%20height%3A%20100.0%25%3B%22%3ERoslindale%3C/div%3E%60%29%5B0%5D%3B%0A%20%20%20%20%20%20%20%20%20%20%20%20%20%20%20%20popup_ac4d50054f9240cdb399cca29e733b1b.setContent%28html_af5c157445f04becaf195a47ce0cd704%29%3B%0A%20%20%20%20%20%20%20%20%20%20%20%20%0A%0A%20%20%20%20%20%20%20%20%20%20%20%20circle_marker_b4aa20269c1c44b3b978827d84e8c502.bindPopup%28popup_ac4d50054f9240cdb399cca29e733b1b%29%0A%20%20%20%20%20%20%20%20%20%20%20%20%3B%0A%0A%20%20%20%20%20%20%20%20%20%20%20%20%0A%20%20%20%20%20%20%20%20%0A%20%20%20%20%0A%20%20%20%20%20%20%20%20%20%20%20%20var%20circle_marker_2b80a8f3ddda45d5a5c68a1e11e07150%20%3D%20L.circleMarker%28%0A%20%20%20%20%20%20%20%20%20%20%20%20%20%20%20%20%5B42.3097%2C%20-71.1151%5D%2C%0A%20%20%20%20%20%20%20%20%20%20%20%20%20%20%20%20%7B%0A%20%20%22bubblingMouseEvents%22%3A%20true%2C%0A%20%20%22color%22%3A%20%22blue%22%2C%0A%20%20%22dashArray%22%3A%20null%2C%0A%20%20%22dashOffset%22%3A%20null%2C%0A%20%20%22fill%22%3A%20true%2C%0A%20%20%22fillColor%22%3A%20%22%233186cc%22%2C%0A%20%20%22fillOpacity%22%3A%200.7%2C%0A%20%20%22fillRule%22%3A%20%22evenodd%22%2C%0A%20%20%22lineCap%22%3A%20%22round%22%2C%0A%20%20%22lineJoin%22%3A%20%22round%22%2C%0A%20%20%22opacity%22%3A%201.0%2C%0A%20%20%22radius%22%3A%205%2C%0A%20%20%22stroke%22%3A%20true%2C%0A%20%20%22weight%22%3A%203%0A%7D%0A%20%20%20%20%20%20%20%20%20%20%20%20%20%20%20%20%29%0A%20%20%20%20%20%20%20%20%20%20%20%20%20%20%20%20.addTo%28map_58d791b9b5b143238a7c24fa08f7fb8c%29%3B%0A%20%20%20%20%20%20%20%20%20%20%20%20%0A%20%20%20%20%0A%20%20%20%20%20%20%20%20%20%20%20%20var%20popup_db3e663f90494f459bd9e90f457e904b%20%3D%20L.popup%28%7BmaxWidth%3A%20%27100%25%27%0A%20%20%20%20%20%20%20%20%20%20%20%20%0A%20%20%20%20%20%20%20%20%20%20%20%20%7D%29%3B%0A%0A%20%20%20%20%20%20%20%20%20%20%20%20%0A%20%20%20%20%20%20%20%20%20%20%20%20%20%20%20%20var%20html_6e2f0971dcc54d36b722138a7efec0ce%20%3D%20%24%28%60%3Cdiv%20id%3D%22html_6e2f0971dcc54d36b722138a7efec0ce%22%20style%3D%22width%3A%20100.0%25%3B%20height%3A%20100.0%25%3B%22%3EJamaica%20Plain%3C/div%3E%60%29%5B0%5D%3B%0A%20%20%20%20%20%20%20%20%20%20%20%20%20%20%20%20popup_db3e663f90494f459bd9e90f457e904b.setContent%28html_6e2f0971dcc54d36b722138a7efec0ce%29%3B%0A%20%20%20%20%20%20%20%20%20%20%20%20%0A%0A%20%20%20%20%20%20%20%20%20%20%20%20circle_marker_2b80a8f3ddda45d5a5c68a1e11e07150.bindPopup%28popup_db3e663f90494f459bd9e90f457e904b%29%0A%20%20%20%20%20%20%20%20%20%20%20%20%3B%0A%0A%20%20%20%20%20%20%20%20%20%20%20%20%0A%20%20%20%20%20%20%20%20%0A%20%20%20%20%0A%20%20%20%20%20%20%20%20%20%20%20%20var%20circle_marker_c97e179dde304204b38c1bf9d1d2cdf1%20%3D%20L.circleMarker%28%0A%20%20%20%20%20%20%20%20%20%20%20%20%20%20%20%20%5B42.3296%2C%20-71.1062%5D%2C%0A%20%20%20%20%20%20%20%20%20%20%20%20%20%20%20%20%7B%0A%20%20%22bubblingMouseEvents%22%3A%20true%2C%0A%20%20%22color%22%3A%20%22blue%22%2C%0A%20%20%22dashArray%22%3A%20null%2C%0A%20%20%22dashOffset%22%3A%20null%2C%0A%20%20%22fill%22%3A%20true%2C%0A%20%20%22fillColor%22%3A%20%22%233186cc%22%2C%0A%20%20%22fillOpacity%22%3A%200.7%2C%0A%20%20%22fillRule%22%3A%20%22evenodd%22%2C%0A%20%20%22lineCap%22%3A%20%22round%22%2C%0A%20%20%22lineJoin%22%3A%20%22round%22%2C%0A%20%20%22opacity%22%3A%201.0%2C%0A%20%20%22radius%22%3A%205%2C%0A%20%20%22stroke%22%3A%20true%2C%0A%20%20%22weight%22%3A%203%0A%7D%0A%20%20%20%20%20%20%20%20%20%20%20%20%20%20%20%20%29%0A%20%20%20%20%20%20%20%20%20%20%20%20%20%20%20%20.addTo%28map_58d791b9b5b143238a7c24fa08f7fb8c%29%3B%0A%20%20%20%20%20%20%20%20%20%20%20%20%0A%20%20%20%20%0A%20%20%20%20%20%20%20%20%20%20%20%20var%20popup_82868896e6ab4c22ac869feaf855a871%20%3D%20L.popup%28%7BmaxWidth%3A%20%27100%25%27%0A%20%20%20%20%20%20%20%20%20%20%20%20%0A%20%20%20%20%20%20%20%20%20%20%20%20%7D%29%3B%0A%0A%20%20%20%20%20%20%20%20%20%20%20%20%0A%20%20%20%20%20%20%20%20%20%20%20%20%20%20%20%20var%20html_c5f3182b024346988f924299095088ae%20%3D%20%24%28%60%3Cdiv%20id%3D%22html_c5f3182b024346988f924299095088ae%22%20style%3D%22width%3A%20100.0%25%3B%20height%3A%20100.0%25%3B%22%3EMission%20Hill%3C/div%3E%60%29%5B0%5D%3B%0A%20%20%20%20%20%20%20%20%20%20%20%20%20%20%20%20popup_82868896e6ab4c22ac869feaf855a871.setContent%28html_c5f3182b024346988f924299095088ae%29%3B%0A%20%20%20%20%20%20%20%20%20%20%20%20%0A%0A%20%20%20%20%20%20%20%20%20%20%20%20circle_marker_c97e179dde304204b38c1bf9d1d2cdf1.bindPopup%28popup_82868896e6ab4c22ac869feaf855a871%29%0A%20%20%20%20%20%20%20%20%20%20%20%20%3B%0A%0A%20%20%20%20%20%20%20%20%20%20%20%20%0A%20%20%20%20%20%20%20%20%0A%20%20%20%20%0A%20%20%20%20%20%20%20%20%20%20%20%20var%20circle_marker_2cdc89b03ba24974827c77bdbc233043%20%3D%20L.circleMarker%28%0A%20%20%20%20%20%20%20%20%20%20%20%20%20%20%20%20%5B42.349%2C%20-71.0698%5D%2C%0A%20%20%20%20%20%20%20%20%20%20%20%20%20%20%20%20%7B%0A%20%20%22bubblingMouseEvents%22%3A%20true%2C%0A%20%20%22color%22%3A%20%22blue%22%2C%0A%20%20%22dashArray%22%3A%20null%2C%0A%20%20%22dashOffset%22%3A%20null%2C%0A%20%20%22fill%22%3A%20true%2C%0A%20%20%22fillColor%22%3A%20%22%233186cc%22%2C%0A%20%20%22fillOpacity%22%3A%200.7%2C%0A%20%20%22fillRule%22%3A%20%22evenodd%22%2C%0A%20%20%22lineCap%22%3A%20%22round%22%2C%0A%20%20%22lineJoin%22%3A%20%22round%22%2C%0A%20%20%22opacity%22%3A%201.0%2C%0A%20%20%22radius%22%3A%205%2C%0A%20%20%22stroke%22%3A%20true%2C%0A%20%20%22weight%22%3A%203%0A%7D%0A%20%20%20%20%20%20%20%20%20%20%20%20%20%20%20%20%29%0A%20%20%20%20%20%20%20%20%20%20%20%20%20%20%20%20.addTo%28map_58d791b9b5b143238a7c24fa08f7fb8c%29%3B%0A%20%20%20%20%20%20%20%20%20%20%20%20%0A%20%20%20%20%0A%20%20%20%20%20%20%20%20%20%20%20%20var%20popup_68ccd3a9e1b04507abcc34ae37e9b017%20%3D%20L.popup%28%7BmaxWidth%3A%20%27100%25%27%0A%20%20%20%20%20%20%20%20%20%20%20%20%0A%20%20%20%20%20%20%20%20%20%20%20%20%7D%29%3B%0A%0A%20%20%20%20%20%20%20%20%20%20%20%20%0A%20%20%20%20%20%20%20%20%20%20%20%20%20%20%20%20var%20html_de17443ef69941bdb4f5325eedc21479%20%3D%20%24%28%60%3Cdiv%20id%3D%22html_de17443ef69941bdb4f5325eedc21479%22%20style%3D%22width%3A%20100.0%25%3B%20height%3A%20100.0%25%3B%22%3EBay%20Village%3C/div%3E%60%29%5B0%5D%3B%0A%20%20%20%20%20%20%20%20%20%20%20%20%20%20%20%20popup_68ccd3a9e1b04507abcc34ae37e9b017.setContent%28html_de17443ef69941bdb4f5325eedc21479%29%3B%0A%20%20%20%20%20%20%20%20%20%20%20%20%0A%0A%20%20%20%20%20%20%20%20%20%20%20%20circle_marker_2cdc89b03ba24974827c77bdbc233043.bindPopup%28popup_68ccd3a9e1b04507abcc34ae37e9b017%29%0A%20%20%20%20%20%20%20%20%20%20%20%20%3B%0A%0A%20%20%20%20%20%20%20%20%20%20%20%20%0A%20%20%20%20%20%20%20%20%0A%20%20%20%20%0A%20%20%20%20%20%20%20%20%20%20%20%20var%20circle_marker_aa56e804e6294fa29b886fa52f65836b%20%3D%20L.circleMarker%28%0A%20%20%20%20%20%20%20%20%20%20%20%20%20%20%20%20%5B42.3501%2C%20-71.0624%5D%2C%0A%20%20%20%20%20%20%20%20%20%20%20%20%20%20%20%20%7B%0A%20%20%22bubblingMouseEvents%22%3A%20true%2C%0A%20%20%22color%22%3A%20%22blue%22%2C%0A%20%20%22dashArray%22%3A%20null%2C%0A%20%20%22dashOffset%22%3A%20null%2C%0A%20%20%22fill%22%3A%20true%2C%0A%20%20%22fillColor%22%3A%20%22%233186cc%22%2C%0A%20%20%22fillOpacity%22%3A%200.7%2C%0A%20%20%22fillRule%22%3A%20%22evenodd%22%2C%0A%20%20%22lineCap%22%3A%20%22round%22%2C%0A%20%20%22lineJoin%22%3A%20%22round%22%2C%0A%20%20%22opacity%22%3A%201.0%2C%0A%20%20%22radius%22%3A%205%2C%0A%20%20%22stroke%22%3A%20true%2C%0A%20%20%22weight%22%3A%203%0A%7D%0A%20%20%20%20%20%20%20%20%20%20%20%20%20%20%20%20%29%0A%20%20%20%20%20%20%20%20%20%20%20%20%20%20%20%20.addTo%28map_58d791b9b5b143238a7c24fa08f7fb8c%29%3B%0A%20%20%20%20%20%20%20%20%20%20%20%20%0A%20%20%20%20%0A%20%20%20%20%20%20%20%20%20%20%20%20var%20popup_12adfe98fbb040a3ba988ae96f837f4c%20%3D%20L.popup%28%7BmaxWidth%3A%20%27100%25%27%0A%20%20%20%20%20%20%20%20%20%20%20%20%0A%20%20%20%20%20%20%20%20%20%20%20%20%7D%29%3B%0A%0A%20%20%20%20%20%20%20%20%20%20%20%20%0A%20%20%20%20%20%20%20%20%20%20%20%20%20%20%20%20var%20html_4f3c3b8a44b946c985b63c73597a6b35%20%3D%20%24%28%60%3Cdiv%20id%3D%22html_4f3c3b8a44b946c985b63c73597a6b35%22%20style%3D%22width%3A%20100.0%25%3B%20height%3A%20100.0%25%3B%22%3EChinatown%3C/div%3E%60%29%5B0%5D%3B%0A%20%20%20%20%20%20%20%20%20%20%20%20%20%20%20%20popup_12adfe98fbb040a3ba988ae96f837f4c.setContent%28html_4f3c3b8a44b946c985b63c73597a6b35%29%3B%0A%20%20%20%20%20%20%20%20%20%20%20%20%0A%0A%20%20%20%20%20%20%20%20%20%20%20%20circle_marker_aa56e804e6294fa29b886fa52f65836b.bindPopup%28popup_12adfe98fbb040a3ba988ae96f837f4c%29%0A%20%20%20%20%20%20%20%20%20%20%20%20%3B%0A%0A%20%20%20%20%20%20%20%20%20%20%20%20%0A%20%20%20%20%20%20%20%20%0A%20%20%20%20%0A%20%20%20%20%20%20%20%20%20%20%20%20var%20circle_marker_5b28fdcc9687428f8a0e99d4a9d0fe31%20%3D%20L.circleMarker%28%0A%20%20%20%20%20%20%20%20%20%20%20%20%20%20%20%20%5B42.3647%2C%20-71.0542%5D%2C%0A%20%20%20%20%20%20%20%20%20%20%20%20%20%20%20%20%7B%0A%20%20%22bubblingMouseEvents%22%3A%20true%2C%0A%20%20%22color%22%3A%20%22blue%22%2C%0A%20%20%22dashArray%22%3A%20null%2C%0A%20%20%22dashOffset%22%3A%20null%2C%0A%20%20%22fill%22%3A%20true%2C%0A%20%20%22fillColor%22%3A%20%22%233186cc%22%2C%0A%20%20%22fillOpacity%22%3A%200.7%2C%0A%20%20%22fillRule%22%3A%20%22evenodd%22%2C%0A%20%20%22lineCap%22%3A%20%22round%22%2C%0A%20%20%22lineJoin%22%3A%20%22round%22%2C%0A%20%20%22opacity%22%3A%201.0%2C%0A%20%20%22radius%22%3A%205%2C%0A%20%20%22stroke%22%3A%20true%2C%0A%20%20%22weight%22%3A%203%0A%7D%0A%20%20%20%20%20%20%20%20%20%20%20%20%20%20%20%20%29%0A%20%20%20%20%20%20%20%20%20%20%20%20%20%20%20%20.addTo%28map_58d791b9b5b143238a7c24fa08f7fb8c%29%3B%0A%20%20%20%20%20%20%20%20%20%20%20%20%0A%20%20%20%20%0A%20%20%20%20%20%20%20%20%20%20%20%20var%20popup_c6d141ff5ff044349e4723e601a0394f%20%3D%20L.popup%28%7BmaxWidth%3A%20%27100%25%27%0A%20%20%20%20%20%20%20%20%20%20%20%20%0A%20%20%20%20%20%20%20%20%20%20%20%20%7D%29%3B%0A%0A%20%20%20%20%20%20%20%20%20%20%20%20%0A%20%20%20%20%20%20%20%20%20%20%20%20%20%20%20%20var%20html_642a9f8011b541b1bc4b70a4bd708d9b%20%3D%20%24%28%60%3Cdiv%20id%3D%22html_642a9f8011b541b1bc4b70a4bd708d9b%22%20style%3D%22width%3A%20100.0%25%3B%20height%3A%20100.0%25%3B%22%3ENorth%20End%3C/div%3E%60%29%5B0%5D%3B%0A%20%20%20%20%20%20%20%20%20%20%20%20%20%20%20%20popup_c6d141ff5ff044349e4723e601a0394f.setContent%28html_642a9f8011b541b1bc4b70a4bd708d9b%29%3B%0A%20%20%20%20%20%20%20%20%20%20%20%20%0A%0A%20%20%20%20%20%20%20%20%20%20%20%20circle_marker_5b28fdcc9687428f8a0e99d4a9d0fe31.bindPopup%28popup_c6d141ff5ff044349e4723e601a0394f%29%0A%20%20%20%20%20%20%20%20%20%20%20%20%3B%0A%0A%20%20%20%20%20%20%20%20%20%20%20%20%0A%20%20%20%20%20%20%20%20%0A%20%20%20%20%0A%20%20%20%20%20%20%20%20%20%20%20%20var%20circle_marker_e1a94ef812d44f9a839d815b6aa4f60d%20%3D%20L.circleMarker%28%0A%20%20%20%20%20%20%20%20%20%20%20%20%20%20%20%20%5B42.3152%2C%20-71.0914%5D%2C%0A%20%20%20%20%20%20%20%20%20%20%20%20%20%20%20%20%7B%0A%20%20%22bubblingMouseEvents%22%3A%20true%2C%0A%20%20%22color%22%3A%20%22blue%22%2C%0A%20%20%22dashArray%22%3A%20null%2C%0A%20%20%22dashOffset%22%3A%20null%2C%0A%20%20%22fill%22%3A%20true%2C%0A%20%20%22fillColor%22%3A%20%22%233186cc%22%2C%0A%20%20%22fillOpacity%22%3A%200.7%2C%0A%20%20%22fillRule%22%3A%20%22evenodd%22%2C%0A%20%20%22lineCap%22%3A%20%22round%22%2C%0A%20%20%22lineJoin%22%3A%20%22round%22%2C%0A%20%20%22opacity%22%3A%201.0%2C%0A%20%20%22radius%22%3A%205%2C%0A%20%20%22stroke%22%3A%20true%2C%0A%20%20%22weight%22%3A%203%0A%7D%0A%20%20%20%20%20%20%20%20%20%20%20%20%20%20%20%20%29%0A%20%20%20%20%20%20%20%20%20%20%20%20%20%20%20%20.addTo%28map_58d791b9b5b143238a7c24fa08f7fb8c%29%3B%0A%20%20%20%20%20%20%20%20%20%20%20%20%0A%20%20%20%20%0A%20%20%20%20%20%20%20%20%20%20%20%20var%20popup_c416b0090faf406b8a78a7ac37a45f32%20%3D%20L.popup%28%7BmaxWidth%3A%20%27100%25%27%0A%20%20%20%20%20%20%20%20%20%20%20%20%0A%20%20%20%20%20%20%20%20%20%20%20%20%7D%29%3B%0A%0A%20%20%20%20%20%20%20%20%20%20%20%20%0A%20%20%20%20%20%20%20%20%20%20%20%20%20%20%20%20var%20html_835398db3c5c4227b9d3dd79452aa961%20%3D%20%24%28%60%3Cdiv%20id%3D%22html_835398db3c5c4227b9d3dd79452aa961%22%20style%3D%22width%3A%20100.0%25%3B%20height%3A%20100.0%25%3B%22%3ERoxbury%3C/div%3E%60%29%5B0%5D%3B%0A%20%20%20%20%20%20%20%20%20%20%20%20%20%20%20%20popup_c416b0090faf406b8a78a7ac37a45f32.setContent%28html_835398db3c5c4227b9d3dd79452aa961%29%3B%0A%20%20%20%20%20%20%20%20%20%20%20%20%0A%0A%20%20%20%20%20%20%20%20%20%20%20%20circle_marker_e1a94ef812d44f9a839d815b6aa4f60d.bindPopup%28popup_c416b0090faf406b8a78a7ac37a45f32%29%0A%20%20%20%20%20%20%20%20%20%20%20%20%3B%0A%0A%20%20%20%20%20%20%20%20%20%20%20%20%0A%20%20%20%20%20%20%20%20%0A%20%20%20%20%0A%20%20%20%20%20%20%20%20%20%20%20%20var%20circle_marker_a171a216126f4a24970b954f16b0c0f9%20%3D%20L.circleMarker%28%0A%20%20%20%20%20%20%20%20%20%20%20%20%20%20%20%20%5B42.3388%2C%20-71.0765%5D%2C%0A%20%20%20%20%20%20%20%20%20%20%20%20%20%20%20%20%7B%0A%20%20%22bubblingMouseEvents%22%3A%20true%2C%0A%20%20%22color%22%3A%20%22blue%22%2C%0A%20%20%22dashArray%22%3A%20null%2C%0A%20%20%22dashOffset%22%3A%20null%2C%0A%20%20%22fill%22%3A%20true%2C%0A%20%20%22fillColor%22%3A%20%22%233186cc%22%2C%0A%20%20%22fillOpacity%22%3A%200.7%2C%0A%20%20%22fillRule%22%3A%20%22evenodd%22%2C%0A%20%20%22lineCap%22%3A%20%22round%22%2C%0A%20%20%22lineJoin%22%3A%20%22round%22%2C%0A%20%20%22opacity%22%3A%201.0%2C%0A%20%20%22radius%22%3A%205%2C%0A%20%20%22stroke%22%3A%20true%2C%0A%20%20%22weight%22%3A%203%0A%7D%0A%20%20%20%20%20%20%20%20%20%20%20%20%20%20%20%20%29%0A%20%20%20%20%20%20%20%20%20%20%20%20%20%20%20%20.addTo%28map_58d791b9b5b143238a7c24fa08f7fb8c%29%3B%0A%20%20%20%20%20%20%20%20%20%20%20%20%0A%20%20%20%20%0A%20%20%20%20%20%20%20%20%20%20%20%20var%20popup_73e8c817de8941c9af1176873aba1f11%20%3D%20L.popup%28%7BmaxWidth%3A%20%27100%25%27%0A%20%20%20%20%20%20%20%20%20%20%20%20%0A%20%20%20%20%20%20%20%20%20%20%20%20%7D%29%3B%0A%0A%20%20%20%20%20%20%20%20%20%20%20%20%0A%20%20%20%20%20%20%20%20%20%20%20%20%20%20%20%20var%20html_99160736c7344a7c92e019db227dfdb4%20%3D%20%24%28%60%3Cdiv%20id%3D%22html_99160736c7344a7c92e019db227dfdb4%22%20style%3D%22width%3A%20100.0%25%3B%20height%3A%20100.0%25%3B%22%3ESouth%20End%3C/div%3E%60%29%5B0%5D%3B%0A%20%20%20%20%20%20%20%20%20%20%20%20%20%20%20%20popup_73e8c817de8941c9af1176873aba1f11.setContent%28html_99160736c7344a7c92e019db227dfdb4%29%3B%0A%20%20%20%20%20%20%20%20%20%20%20%20%0A%0A%20%20%20%20%20%20%20%20%20%20%20%20circle_marker_a171a216126f4a24970b954f16b0c0f9.bindPopup%28popup_73e8c817de8941c9af1176873aba1f11%29%0A%20%20%20%20%20%20%20%20%20%20%20%20%3B%0A%0A%20%20%20%20%20%20%20%20%20%20%20%20%0A%20%20%20%20%20%20%20%20%0A%20%20%20%20%0A%20%20%20%20%20%20%20%20%20%20%20%20var%20circle_marker_255e46ea9ede43f0818a357b25059afa%20%3D%20L.circleMarker%28%0A%20%20%20%20%20%20%20%20%20%20%20%20%20%20%20%20%5B42.3503%2C%20-71.081%5D%2C%0A%20%20%20%20%20%20%20%20%20%20%20%20%20%20%20%20%7B%0A%20%20%22bubblingMouseEvents%22%3A%20true%2C%0A%20%20%22color%22%3A%20%22blue%22%2C%0A%20%20%22dashArray%22%3A%20null%2C%0A%20%20%22dashOffset%22%3A%20null%2C%0A%20%20%22fill%22%3A%20true%2C%0A%20%20%22fillColor%22%3A%20%22%233186cc%22%2C%0A%20%20%22fillOpacity%22%3A%200.7%2C%0A%20%20%22fillRule%22%3A%20%22evenodd%22%2C%0A%20%20%22lineCap%22%3A%20%22round%22%2C%0A%20%20%22lineJoin%22%3A%20%22round%22%2C%0A%20%20%22opacity%22%3A%201.0%2C%0A%20%20%22radius%22%3A%205%2C%0A%20%20%22stroke%22%3A%20true%2C%0A%20%20%22weight%22%3A%203%0A%7D%0A%20%20%20%20%20%20%20%20%20%20%20%20%20%20%20%20%29%0A%20%20%20%20%20%20%20%20%20%20%20%20%20%20%20%20.addTo%28map_58d791b9b5b143238a7c24fa08f7fb8c%29%3B%0A%20%20%20%20%20%20%20%20%20%20%20%20%0A%20%20%20%20%0A%20%20%20%20%20%20%20%20%20%20%20%20var%20popup_71a4592e91fa47b494a5a5e9ebbca050%20%3D%20L.popup%28%7BmaxWidth%3A%20%27100%25%27%0A%20%20%20%20%20%20%20%20%20%20%20%20%0A%20%20%20%20%20%20%20%20%20%20%20%20%7D%29%3B%0A%0A%20%20%20%20%20%20%20%20%20%20%20%20%0A%20%20%20%20%20%20%20%20%20%20%20%20%20%20%20%20var%20html_1d0b735891a84dc2acac660f7635cf38%20%3D%20%24%28%60%3Cdiv%20id%3D%22html_1d0b735891a84dc2acac660f7635cf38%22%20style%3D%22width%3A%20100.0%25%3B%20height%3A%20100.0%25%3B%22%3EBack%20Bay%3C/div%3E%60%29%5B0%5D%3B%0A%20%20%20%20%20%20%20%20%20%20%20%20%20%20%20%20popup_71a4592e91fa47b494a5a5e9ebbca050.setContent%28html_1d0b735891a84dc2acac660f7635cf38%29%3B%0A%20%20%20%20%20%20%20%20%20%20%20%20%0A%0A%20%20%20%20%20%20%20%20%20%20%20%20circle_marker_255e46ea9ede43f0818a357b25059afa.bindPopup%28popup_71a4592e91fa47b494a5a5e9ebbca050%29%0A%20%20%20%20%20%20%20%20%20%20%20%20%3B%0A%0A%20%20%20%20%20%20%20%20%20%20%20%20%0A%20%20%20%20%20%20%20%20%0A%20%20%20%20%0A%20%20%20%20%20%20%20%20%20%20%20%20var%20circle_marker_096634e741994e148a7ad8a640b8456c%20%3D%20L.circleMarker%28%0A%20%20%20%20%20%20%20%20%20%20%20%20%20%20%20%20%5B42.3702%2C%20-71.0389%5D%2C%0A%20%20%20%20%20%20%20%20%20%20%20%20%20%20%20%20%7B%0A%20%20%22bubblingMouseEvents%22%3A%20true%2C%0A%20%20%22color%22%3A%20%22blue%22%2C%0A%20%20%22dashArray%22%3A%20null%2C%0A%20%20%22dashOffset%22%3A%20null%2C%0A%20%20%22fill%22%3A%20true%2C%0A%20%20%22fillColor%22%3A%20%22%233186cc%22%2C%0A%20%20%22fillOpacity%22%3A%200.7%2C%0A%20%20%22fillRule%22%3A%20%22evenodd%22%2C%0A%20%20%22lineCap%22%3A%20%22round%22%2C%0A%20%20%22lineJoin%22%3A%20%22round%22%2C%0A%20%20%22opacity%22%3A%201.0%2C%0A%20%20%22radius%22%3A%205%2C%0A%20%20%22stroke%22%3A%20true%2C%0A%20%20%22weight%22%3A%203%0A%7D%0A%20%20%20%20%20%20%20%20%20%20%20%20%20%20%20%20%29%0A%20%20%20%20%20%20%20%20%20%20%20%20%20%20%20%20.addTo%28map_58d791b9b5b143238a7c24fa08f7fb8c%29%3B%0A%20%20%20%20%20%20%20%20%20%20%20%20%0A%20%20%20%20%0A%20%20%20%20%20%20%20%20%20%20%20%20var%20popup_62a618d253274340baf10215a3d16043%20%3D%20L.popup%28%7BmaxWidth%3A%20%27100%25%27%0A%20%20%20%20%20%20%20%20%20%20%20%20%0A%20%20%20%20%20%20%20%20%20%20%20%20%7D%29%3B%0A%0A%20%20%20%20%20%20%20%20%20%20%20%20%0A%20%20%20%20%20%20%20%20%20%20%20%20%20%20%20%20var%20html_61e9081545f3498ba2cd2214f48e4c47%20%3D%20%24%28%60%3Cdiv%20id%3D%22html_61e9081545f3498ba2cd2214f48e4c47%22%20style%3D%22width%3A%20100.0%25%3B%20height%3A%20100.0%25%3B%22%3EEast%20Boston%3C/div%3E%60%29%5B0%5D%3B%0A%20%20%20%20%20%20%20%20%20%20%20%20%20%20%20%20popup_62a618d253274340baf10215a3d16043.setContent%28html_61e9081545f3498ba2cd2214f48e4c47%29%3B%0A%20%20%20%20%20%20%20%20%20%20%20%20%0A%0A%20%20%20%20%20%20%20%20%20%20%20%20circle_marker_096634e741994e148a7ad8a640b8456c.bindPopup%28popup_62a618d253274340baf10215a3d16043%29%0A%20%20%20%20%20%20%20%20%20%20%20%20%3B%0A%0A%20%20%20%20%20%20%20%20%20%20%20%20%0A%20%20%20%20%20%20%20%20%0A%20%20%20%20%0A%20%20%20%20%20%20%20%20%20%20%20%20var%20circle_marker_c95eed429ad544faa81d28028c77b351%20%3D%20L.circleMarker%28%0A%20%20%20%20%20%20%20%20%20%20%20%20%20%20%20%20%5B42.3782%2C%20-71.0602%5D%2C%0A%20%20%20%20%20%20%20%20%20%20%20%20%20%20%20%20%7B%0A%20%20%22bubblingMouseEvents%22%3A%20true%2C%0A%20%20%22color%22%3A%20%22blue%22%2C%0A%20%20%22dashArray%22%3A%20null%2C%0A%20%20%22dashOffset%22%3A%20null%2C%0A%20%20%22fill%22%3A%20true%2C%0A%20%20%22fillColor%22%3A%20%22%233186cc%22%2C%0A%20%20%22fillOpacity%22%3A%200.7%2C%0A%20%20%22fillRule%22%3A%20%22evenodd%22%2C%0A%20%20%22lineCap%22%3A%20%22round%22%2C%0A%20%20%22lineJoin%22%3A%20%22round%22%2C%0A%20%20%22opacity%22%3A%201.0%2C%0A%20%20%22radius%22%3A%205%2C%0A%20%20%22stroke%22%3A%20true%2C%0A%20%20%22weight%22%3A%203%0A%7D%0A%20%20%20%20%20%20%20%20%20%20%20%20%20%20%20%20%29%0A%20%20%20%20%20%20%20%20%20%20%20%20%20%20%20%20.addTo%28map_58d791b9b5b143238a7c24fa08f7fb8c%29%3B%0A%20%20%20%20%20%20%20%20%20%20%20%20%0A%20%20%20%20%0A%20%20%20%20%20%20%20%20%20%20%20%20var%20popup_922134873ed94fb5be071be32ce0b64f%20%3D%20L.popup%28%7BmaxWidth%3A%20%27100%25%27%0A%20%20%20%20%20%20%20%20%20%20%20%20%0A%20%20%20%20%20%20%20%20%20%20%20%20%7D%29%3B%0A%0A%20%20%20%20%20%20%20%20%20%20%20%20%0A%20%20%20%20%20%20%20%20%20%20%20%20%20%20%20%20var%20html_36fe15dd21c0408b816f648016d1a79e%20%3D%20%24%28%60%3Cdiv%20id%3D%22html_36fe15dd21c0408b816f648016d1a79e%22%20style%3D%22width%3A%20100.0%25%3B%20height%3A%20100.0%25%3B%22%3ECharlestown%3C/div%3E%60%29%5B0%5D%3B%0A%20%20%20%20%20%20%20%20%20%20%20%20%20%20%20%20popup_922134873ed94fb5be071be32ce0b64f.setContent%28html_36fe15dd21c0408b816f648016d1a79e%29%3B%0A%20%20%20%20%20%20%20%20%20%20%20%20%0A%0A%20%20%20%20%20%20%20%20%20%20%20%20circle_marker_c95eed429ad544faa81d28028c77b351.bindPopup%28popup_922134873ed94fb5be071be32ce0b64f%29%0A%20%20%20%20%20%20%20%20%20%20%20%20%3B%0A%0A%20%20%20%20%20%20%20%20%20%20%20%20%0A%20%20%20%20%20%20%20%20%0A%20%20%20%20%0A%20%20%20%20%20%20%20%20%20%20%20%20var%20circle_marker_75deed0313cc4f389f18b59bc9917c27%20%3D%20L.circleMarker%28%0A%20%20%20%20%20%20%20%20%20%20%20%20%20%20%20%20%5B42.3644%2C%20-71.0661%5D%2C%0A%20%20%20%20%20%20%20%20%20%20%20%20%20%20%20%20%7B%0A%20%20%22bubblingMouseEvents%22%3A%20true%2C%0A%20%20%22color%22%3A%20%22blue%22%2C%0A%20%20%22dashArray%22%3A%20null%2C%0A%20%20%22dashOffset%22%3A%20null%2C%0A%20%20%22fill%22%3A%20true%2C%0A%20%20%22fillColor%22%3A%20%22%233186cc%22%2C%0A%20%20%22fillOpacity%22%3A%200.7%2C%0A%20%20%22fillRule%22%3A%20%22evenodd%22%2C%0A%20%20%22lineCap%22%3A%20%22round%22%2C%0A%20%20%22lineJoin%22%3A%20%22round%22%2C%0A%20%20%22opacity%22%3A%201.0%2C%0A%20%20%22radius%22%3A%205%2C%0A%20%20%22stroke%22%3A%20true%2C%0A%20%20%22weight%22%3A%203%0A%7D%0A%20%20%20%20%20%20%20%20%20%20%20%20%20%20%20%20%29%0A%20%20%20%20%20%20%20%20%20%20%20%20%20%20%20%20.addTo%28map_58d791b9b5b143238a7c24fa08f7fb8c%29%3B%0A%20%20%20%20%20%20%20%20%20%20%20%20%0A%20%20%20%20%0A%20%20%20%20%20%20%20%20%20%20%20%20var%20popup_11f9bac7280342a0b19d8428eea06285%20%3D%20L.popup%28%7BmaxWidth%3A%20%27100%25%27%0A%20%20%20%20%20%20%20%20%20%20%20%20%0A%20%20%20%20%20%20%20%20%20%20%20%20%7D%29%3B%0A%0A%20%20%20%20%20%20%20%20%20%20%20%20%0A%20%20%20%20%20%20%20%20%20%20%20%20%20%20%20%20var%20html_2cce9d09e44349b0b72d6dfd2d9185e1%20%3D%20%24%28%60%3Cdiv%20id%3D%22html_2cce9d09e44349b0b72d6dfd2d9185e1%22%20style%3D%22width%3A%20100.0%25%3B%20height%3A%20100.0%25%3B%22%3EWest%20End%3C/div%3E%60%29%5B0%5D%3B%0A%20%20%20%20%20%20%20%20%20%20%20%20%20%20%20%20popup_11f9bac7280342a0b19d8428eea06285.setContent%28html_2cce9d09e44349b0b72d6dfd2d9185e1%29%3B%0A%20%20%20%20%20%20%20%20%20%20%20%20%0A%0A%20%20%20%20%20%20%20%20%20%20%20%20circle_marker_75deed0313cc4f389f18b59bc9917c27.bindPopup%28popup_11f9bac7280342a0b19d8428eea06285%29%0A%20%20%20%20%20%20%20%20%20%20%20%20%3B%0A%0A%20%20%20%20%20%20%20%20%20%20%20%20%0A%20%20%20%20%20%20%20%20%0A%20%20%20%20%0A%20%20%20%20%20%20%20%20%20%20%20%20var%20circle_marker_0a05c0745ac249bbb90e369e3539bd24%20%3D%20L.circleMarker%28%0A%20%20%20%20%20%20%20%20%20%20%20%20%20%20%20%20%5B42.3588%2C%20-71.0707%5D%2C%0A%20%20%20%20%20%20%20%20%20%20%20%20%20%20%20%20%7B%0A%20%20%22bubblingMouseEvents%22%3A%20true%2C%0A%20%20%22color%22%3A%20%22blue%22%2C%0A%20%20%22dashArray%22%3A%20null%2C%0A%20%20%22dashOffset%22%3A%20null%2C%0A%20%20%22fill%22%3A%20true%2C%0A%20%20%22fillColor%22%3A%20%22%233186cc%22%2C%0A%20%20%22fillOpacity%22%3A%200.7%2C%0A%20%20%22fillRule%22%3A%20%22evenodd%22%2C%0A%20%20%22lineCap%22%3A%20%22round%22%2C%0A%20%20%22lineJoin%22%3A%20%22round%22%2C%0A%20%20%22opacity%22%3A%201.0%2C%0A%20%20%22radius%22%3A%205%2C%0A%20%20%22stroke%22%3A%20true%2C%0A%20%20%22weight%22%3A%203%0A%7D%0A%20%20%20%20%20%20%20%20%20%20%20%20%20%20%20%20%29%0A%20%20%20%20%20%20%20%20%20%20%20%20%20%20%20%20.addTo%28map_58d791b9b5b143238a7c24fa08f7fb8c%29%3B%0A%20%20%20%20%20%20%20%20%20%20%20%20%0A%20%20%20%20%0A%20%20%20%20%20%20%20%20%20%20%20%20var%20popup_1a6728540fbe41e0a998953484a41472%20%3D%20L.popup%28%7BmaxWidth%3A%20%27100%25%27%0A%20%20%20%20%20%20%20%20%20%20%20%20%0A%20%20%20%20%20%20%20%20%20%20%20%20%7D%29%3B%0A%0A%20%20%20%20%20%20%20%20%20%20%20%20%0A%20%20%20%20%20%20%20%20%20%20%20%20%20%20%20%20var%20html_ead5c809a7a44fc69f1b1d49a6a91a04%20%3D%20%24%28%60%3Cdiv%20id%3D%22html_ead5c809a7a44fc69f1b1d49a6a91a04%22%20style%3D%22width%3A%20100.0%25%3B%20height%3A%20100.0%25%3B%22%3EBeacon%20Hill%3C/div%3E%60%29%5B0%5D%3B%0A%20%20%20%20%20%20%20%20%20%20%20%20%20%20%20%20popup_1a6728540fbe41e0a998953484a41472.setContent%28html_ead5c809a7a44fc69f1b1d49a6a91a04%29%3B%0A%20%20%20%20%20%20%20%20%20%20%20%20%0A%0A%20%20%20%20%20%20%20%20%20%20%20%20circle_marker_0a05c0745ac249bbb90e369e3539bd24.bindPopup%28popup_1a6728540fbe41e0a998953484a41472%29%0A%20%20%20%20%20%20%20%20%20%20%20%20%3B%0A%0A%20%20%20%20%20%20%20%20%20%20%20%20%0A%20%20%20%20%20%20%20%20%0A%20%20%20%20%0A%20%20%20%20%20%20%20%20%20%20%20%20var%20circle_marker_f54a295f03234d759594e44135f1d0e0%20%3D%20L.circleMarker%28%0A%20%20%20%20%20%20%20%20%20%20%20%20%20%20%20%20%5B42.3557%2C%20-71.0572%5D%2C%0A%20%20%20%20%20%20%20%20%20%20%20%20%20%20%20%20%7B%0A%20%20%22bubblingMouseEvents%22%3A%20true%2C%0A%20%20%22color%22%3A%20%22blue%22%2C%0A%20%20%22dashArray%22%3A%20null%2C%0A%20%20%22dashOffset%22%3A%20null%2C%0A%20%20%22fill%22%3A%20true%2C%0A%20%20%22fillColor%22%3A%20%22%233186cc%22%2C%0A%20%20%22fillOpacity%22%3A%200.7%2C%0A%20%20%22fillRule%22%3A%20%22evenodd%22%2C%0A%20%20%22lineCap%22%3A%20%22round%22%2C%0A%20%20%22lineJoin%22%3A%20%22round%22%2C%0A%20%20%22opacity%22%3A%201.0%2C%0A%20%20%22radius%22%3A%205%2C%0A%20%20%22stroke%22%3A%20true%2C%0A%20%20%22weight%22%3A%203%0A%7D%0A%20%20%20%20%20%20%20%20%20%20%20%20%20%20%20%20%29%0A%20%20%20%20%20%20%20%20%20%20%20%20%20%20%20%20.addTo%28map_58d791b9b5b143238a7c24fa08f7fb8c%29%3B%0A%20%20%20%20%20%20%20%20%20%20%20%20%0A%20%20%20%20%0A%20%20%20%20%20%20%20%20%20%20%20%20var%20popup_a30fd7f62ec549d2bc9c00a6e46ea004%20%3D%20L.popup%28%7BmaxWidth%3A%20%27100%25%27%0A%20%20%20%20%20%20%20%20%20%20%20%20%0A%20%20%20%20%20%20%20%20%20%20%20%20%7D%29%3B%0A%0A%20%20%20%20%20%20%20%20%20%20%20%20%0A%20%20%20%20%20%20%20%20%20%20%20%20%20%20%20%20var%20html_f08d6033b56c48bab9f5c2878f58ba0d%20%3D%20%24%28%60%3Cdiv%20id%3D%22html_f08d6033b56c48bab9f5c2878f58ba0d%22%20style%3D%22width%3A%20100.0%25%3B%20height%3A%20100.0%25%3B%22%3EDowntown%3C/div%3E%60%29%5B0%5D%3B%0A%20%20%20%20%20%20%20%20%20%20%20%20%20%20%20%20popup_a30fd7f62ec549d2bc9c00a6e46ea004.setContent%28html_f08d6033b56c48bab9f5c2878f58ba0d%29%3B%0A%20%20%20%20%20%20%20%20%20%20%20%20%0A%0A%20%20%20%20%20%20%20%20%20%20%20%20circle_marker_f54a295f03234d759594e44135f1d0e0.bindPopup%28popup_a30fd7f62ec549d2bc9c00a6e46ea004%29%0A%20%20%20%20%20%20%20%20%20%20%20%20%3B%0A%0A%20%20%20%20%20%20%20%20%20%20%20%20%0A%20%20%20%20%20%20%20%20%0A%20%20%20%20%0A%20%20%20%20%20%20%20%20%20%20%20%20var%20circle_marker_3c1fe09dfb3f48e0ad76467c1f5e2872%20%3D%20L.circleMarker%28%0A%20%20%20%20%20%20%20%20%20%20%20%20%20%20%20%20%5B42.3429%2C%20-71.1003%5D%2C%0A%20%20%20%20%20%20%20%20%20%20%20%20%20%20%20%20%7B%0A%20%20%22bubblingMouseEvents%22%3A%20true%2C%0A%20%20%22color%22%3A%20%22blue%22%2C%0A%20%20%22dashArray%22%3A%20null%2C%0A%20%20%22dashOffset%22%3A%20null%2C%0A%20%20%22fill%22%3A%20true%2C%0A%20%20%22fillColor%22%3A%20%22%233186cc%22%2C%0A%20%20%22fillOpacity%22%3A%200.7%2C%0A%20%20%22fillRule%22%3A%20%22evenodd%22%2C%0A%20%20%22lineCap%22%3A%20%22round%22%2C%0A%20%20%22lineJoin%22%3A%20%22round%22%2C%0A%20%20%22opacity%22%3A%201.0%2C%0A%20%20%22radius%22%3A%205%2C%0A%20%20%22stroke%22%3A%20true%2C%0A%20%20%22weight%22%3A%203%0A%7D%0A%20%20%20%20%20%20%20%20%20%20%20%20%20%20%20%20%29%0A%20%20%20%20%20%20%20%20%20%20%20%20%20%20%20%20.addTo%28map_58d791b9b5b143238a7c24fa08f7fb8c%29%3B%0A%20%20%20%20%20%20%20%20%20%20%20%20%0A%20%20%20%20%0A%20%20%20%20%20%20%20%20%20%20%20%20var%20popup_942c07757d73496aa324e837ca34bd21%20%3D%20L.popup%28%7BmaxWidth%3A%20%27100%25%27%0A%20%20%20%20%20%20%20%20%20%20%20%20%0A%20%20%20%20%20%20%20%20%20%20%20%20%7D%29%3B%0A%0A%20%20%20%20%20%20%20%20%20%20%20%20%0A%20%20%20%20%20%20%20%20%20%20%20%20%20%20%20%20var%20html_6c4f29f8ed6e4449b24550b96f0d9d90%20%3D%20%24%28%60%3Cdiv%20id%3D%22html_6c4f29f8ed6e4449b24550b96f0d9d90%22%20style%3D%22width%3A%20100.0%25%3B%20height%3A%20100.0%25%3B%22%3EFenway%C2%A8CKenmore%3C/div%3E%60%29%5B0%5D%3B%0A%20%20%20%20%20%20%20%20%20%20%20%20%20%20%20%20popup_942c07757d73496aa324e837ca34bd21.setContent%28html_6c4f29f8ed6e4449b24550b96f0d9d90%29%3B%0A%20%20%20%20%20%20%20%20%20%20%20%20%0A%0A%20%20%20%20%20%20%20%20%20%20%20%20circle_marker_3c1fe09dfb3f48e0ad76467c1f5e2872.bindPopup%28popup_942c07757d73496aa324e837ca34bd21%29%0A%20%20%20%20%20%20%20%20%20%20%20%20%3B%0A%0A%20%20%20%20%20%20%20%20%20%20%20%20%0A%20%20%20%20%20%20%20%20%0A%20%20%20%20%0A%20%20%20%20%20%20%20%20%20%20%20%20var%20circle_marker_34a44685a5b1498e86a2b469ea057402%20%3D%20L.circleMarker%28%0A%20%20%20%20%20%20%20%20%20%20%20%20%20%20%20%20%5B42.3464%2C%20-71.1627%5D%2C%0A%20%20%20%20%20%20%20%20%20%20%20%20%20%20%20%20%7B%0A%20%20%22bubblingMouseEvents%22%3A%20true%2C%0A%20%20%22color%22%3A%20%22blue%22%2C%0A%20%20%22dashArray%22%3A%20null%2C%0A%20%20%22dashOffset%22%3A%20null%2C%0A%20%20%22fill%22%3A%20true%2C%0A%20%20%22fillColor%22%3A%20%22%233186cc%22%2C%0A%20%20%22fillOpacity%22%3A%200.7%2C%0A%20%20%22fillRule%22%3A%20%22evenodd%22%2C%0A%20%20%22lineCap%22%3A%20%22round%22%2C%0A%20%20%22lineJoin%22%3A%20%22round%22%2C%0A%20%20%22opacity%22%3A%201.0%2C%0A%20%20%22radius%22%3A%205%2C%0A%20%20%22stroke%22%3A%20true%2C%0A%20%20%22weight%22%3A%203%0A%7D%0A%20%20%20%20%20%20%20%20%20%20%20%20%20%20%20%20%29%0A%20%20%20%20%20%20%20%20%20%20%20%20%20%20%20%20.addTo%28map_58d791b9b5b143238a7c24fa08f7fb8c%29%3B%0A%20%20%20%20%20%20%20%20%20%20%20%20%0A%20%20%20%20%0A%20%20%20%20%20%20%20%20%20%20%20%20var%20popup_5470b07b01104f33a8afaa7c35d328b4%20%3D%20L.popup%28%7BmaxWidth%3A%20%27100%25%27%0A%20%20%20%20%20%20%20%20%20%20%20%20%0A%20%20%20%20%20%20%20%20%20%20%20%20%7D%29%3B%0A%0A%20%20%20%20%20%20%20%20%20%20%20%20%0A%20%20%20%20%20%20%20%20%20%20%20%20%20%20%20%20var%20html_6415b2ad62d14bd295ba561ae1d7174c%20%3D%20%24%28%60%3Cdiv%20id%3D%22html_6415b2ad62d14bd295ba561ae1d7174c%22%20style%3D%22width%3A%20100.0%25%3B%20height%3A%20100.0%25%3B%22%3EBrighton%3C/div%3E%60%29%5B0%5D%3B%0A%20%20%20%20%20%20%20%20%20%20%20%20%20%20%20%20popup_5470b07b01104f33a8afaa7c35d328b4.setContent%28html_6415b2ad62d14bd295ba561ae1d7174c%29%3B%0A%20%20%20%20%20%20%20%20%20%20%20%20%0A%0A%20%20%20%20%20%20%20%20%20%20%20%20circle_marker_34a44685a5b1498e86a2b469ea057402.bindPopup%28popup_5470b07b01104f33a8afaa7c35d328b4%29%0A%20%20%20%20%20%20%20%20%20%20%20%20%3B%0A%0A%20%20%20%20%20%20%20%20%20%20%20%20%0A%20%20%20%20%20%20%20%20%0A%20%20%20%20%0A%20%20%20%20%20%20%20%20%20%20%20%20var%20circle_marker_aa1516fd446f4c358b57aeb653e42393%20%3D%20L.circleMarker%28%0A%20%20%20%20%20%20%20%20%20%20%20%20%20%20%20%20%5B42.2798%2C%20-71.1627%5D%2C%0A%20%20%20%20%20%20%20%20%20%20%20%20%20%20%20%20%7B%0A%20%20%22bubblingMouseEvents%22%3A%20true%2C%0A%20%20%22color%22%3A%20%22blue%22%2C%0A%20%20%22dashArray%22%3A%20null%2C%0A%20%20%22dashOffset%22%3A%20null%2C%0A%20%20%22fill%22%3A%20true%2C%0A%20%20%22fillColor%22%3A%20%22%233186cc%22%2C%0A%20%20%22fillOpacity%22%3A%200.7%2C%0A%20%20%22fillRule%22%3A%20%22evenodd%22%2C%0A%20%20%22lineCap%22%3A%20%22round%22%2C%0A%20%20%22lineJoin%22%3A%20%22round%22%2C%0A%20%20%22opacity%22%3A%201.0%2C%0A%20%20%22radius%22%3A%205%2C%0A%20%20%22stroke%22%3A%20true%2C%0A%20%20%22weight%22%3A%203%0A%7D%0A%20%20%20%20%20%20%20%20%20%20%20%20%20%20%20%20%29%0A%20%20%20%20%20%20%20%20%20%20%20%20%20%20%20%20.addTo%28map_58d791b9b5b143238a7c24fa08f7fb8c%29%3B%0A%20%20%20%20%20%20%20%20%20%20%20%20%0A%20%20%20%20%0A%20%20%20%20%20%20%20%20%20%20%20%20var%20popup_28106a84635d4334839f780fc4e560fe%20%3D%20L.popup%28%7BmaxWidth%3A%20%27100%25%27%0A%20%20%20%20%20%20%20%20%20%20%20%20%0A%20%20%20%20%20%20%20%20%20%20%20%20%7D%29%3B%0A%0A%20%20%20%20%20%20%20%20%20%20%20%20%0A%20%20%20%20%20%20%20%20%20%20%20%20%20%20%20%20var%20html_e829fafa9c62423db50bcfcf7429b00c%20%3D%20%24%28%60%3Cdiv%20id%3D%22html_e829fafa9c62423db50bcfcf7429b00c%22%20style%3D%22width%3A%20100.0%25%3B%20height%3A%20100.0%25%3B%22%3EWest%20Roxbury%3C/div%3E%60%29%5B0%5D%3B%0A%20%20%20%20%20%20%20%20%20%20%20%20%20%20%20%20popup_28106a84635d4334839f780fc4e560fe.setContent%28html_e829fafa9c62423db50bcfcf7429b00c%29%3B%0A%20%20%20%20%20%20%20%20%20%20%20%20%0A%0A%20%20%20%20%20%20%20%20%20%20%20%20circle_marker_aa1516fd446f4c358b57aeb653e42393.bindPopup%28popup_28106a84635d4334839f780fc4e560fe%29%0A%20%20%20%20%20%20%20%20%20%20%20%20%3B%0A%0A%20%20%20%20%20%20%20%20%20%20%20%20%0A%20%20%20%20%20%20%20%20%0A%20%20%20%20%0A%20%20%20%20%20%20%20%20%20%20%20%20var%20circle_marker_960c8f0cc91f4d9c9b66a1557b44f603%20%3D%20L.circleMarker%28%0A%20%20%20%20%20%20%20%20%20%20%20%20%20%20%20%20%5B42.2565%2C%20-71.1241%5D%2C%0A%20%20%20%20%20%20%20%20%20%20%20%20%20%20%20%20%7B%0A%20%20%22bubblingMouseEvents%22%3A%20true%2C%0A%20%20%22color%22%3A%20%22blue%22%2C%0A%20%20%22dashArray%22%3A%20null%2C%0A%20%20%22dashOffset%22%3A%20null%2C%0A%20%20%22fill%22%3A%20true%2C%0A%20%20%22fillColor%22%3A%20%22%233186cc%22%2C%0A%20%20%22fillOpacity%22%3A%200.7%2C%0A%20%20%22fillRule%22%3A%20%22evenodd%22%2C%0A%20%20%22lineCap%22%3A%20%22round%22%2C%0A%20%20%22lineJoin%22%3A%20%22round%22%2C%0A%20%20%22opacity%22%3A%201.0%2C%0A%20%20%22radius%22%3A%205%2C%0A%20%20%22stroke%22%3A%20true%2C%0A%20%20%22weight%22%3A%203%0A%7D%0A%20%20%20%20%20%20%20%20%20%20%20%20%20%20%20%20%29%0A%20%20%20%20%20%20%20%20%20%20%20%20%20%20%20%20.addTo%28map_58d791b9b5b143238a7c24fa08f7fb8c%29%3B%0A%20%20%20%20%20%20%20%20%20%20%20%20%0A%20%20%20%20%0A%20%20%20%20%20%20%20%20%20%20%20%20var%20popup_a0b7b8d06e134705bfacd918c04380c3%20%3D%20L.popup%28%7BmaxWidth%3A%20%27100%25%27%0A%20%20%20%20%20%20%20%20%20%20%20%20%0A%20%20%20%20%20%20%20%20%20%20%20%20%7D%29%3B%0A%0A%20%20%20%20%20%20%20%20%20%20%20%20%0A%20%20%20%20%20%20%20%20%20%20%20%20%20%20%20%20var%20html_950ebd3f57cb4e598cdff84575d7fab2%20%3D%20%24%28%60%3Cdiv%20id%3D%22html_950ebd3f57cb4e598cdff84575d7fab2%22%20style%3D%22width%3A%20100.0%25%3B%20height%3A%20100.0%25%3B%22%3EHyde%20Park%3C/div%3E%60%29%5B0%5D%3B%0A%20%20%20%20%20%20%20%20%20%20%20%20%20%20%20%20popup_a0b7b8d06e134705bfacd918c04380c3.setContent%28html_950ebd3f57cb4e598cdff84575d7fab2%29%3B%0A%20%20%20%20%20%20%20%20%20%20%20%20%0A%0A%20%20%20%20%20%20%20%20%20%20%20%20circle_marker_960c8f0cc91f4d9c9b66a1557b44f603.bindPopup%28popup_a0b7b8d06e134705bfacd918c04380c3%29%0A%20%20%20%20%20%20%20%20%20%20%20%20%3B%0A%0A%20%20%20%20%20%20%20%20%20%20%20%20%0A%20%20%20%20%20%20%20%20%0A%20%20%20%20%0A%20%20%20%20%20%20%20%20%20%20%20%20var%20circle_marker_de05d7ace84f43a8b61d24b6a667b418%20%3D%20L.circleMarker%28%0A%20%20%20%20%20%20%20%20%20%20%20%20%20%20%20%20%5B42.2771%2C%20-71.0914%5D%2C%0A%20%20%20%20%20%20%20%20%20%20%20%20%20%20%20%20%7B%0A%20%20%22bubblingMouseEvents%22%3A%20true%2C%0A%20%20%22color%22%3A%20%22blue%22%2C%0A%20%20%22dashArray%22%3A%20null%2C%0A%20%20%22dashOffset%22%3A%20null%2C%0A%20%20%22fill%22%3A%20true%2C%0A%20%20%22fillColor%22%3A%20%22%233186cc%22%2C%0A%20%20%22fillOpacity%22%3A%200.7%2C%0A%20%20%22fillRule%22%3A%20%22evenodd%22%2C%0A%20%20%22lineCap%22%3A%20%22round%22%2C%0A%20%20%22lineJoin%22%3A%20%22round%22%2C%0A%20%20%22opacity%22%3A%201.0%2C%0A%20%20%22radius%22%3A%205%2C%0A%20%20%22stroke%22%3A%20true%2C%0A%20%20%22weight%22%3A%203%0A%7D%0A%20%20%20%20%20%20%20%20%20%20%20%20%20%20%20%20%29%0A%20%20%20%20%20%20%20%20%20%20%20%20%20%20%20%20.addTo%28map_58d791b9b5b143238a7c24fa08f7fb8c%29%3B%0A%20%20%20%20%20%20%20%20%20%20%20%20%0A%20%20%20%20%0A%20%20%20%20%20%20%20%20%20%20%20%20var%20popup_17c0d695fcde4daeb4fcf7571169ca02%20%3D%20L.popup%28%7BmaxWidth%3A%20%27100%25%27%0A%20%20%20%20%20%20%20%20%20%20%20%20%0A%20%20%20%20%20%20%20%20%20%20%20%20%7D%29%3B%0A%0A%20%20%20%20%20%20%20%20%20%20%20%20%0A%20%20%20%20%20%20%20%20%20%20%20%20%20%20%20%20var%20html_9d0ba1021b9b4c6592322fcd31c3949d%20%3D%20%24%28%60%3Cdiv%20id%3D%22html_9d0ba1021b9b4c6592322fcd31c3949d%22%20style%3D%22width%3A%20100.0%25%3B%20height%3A%20100.0%25%3B%22%3EMattapan%3C/div%3E%60%29%5B0%5D%3B%0A%20%20%20%20%20%20%20%20%20%20%20%20%20%20%20%20popup_17c0d695fcde4daeb4fcf7571169ca02.setContent%28html_9d0ba1021b9b4c6592322fcd31c3949d%29%3B%0A%20%20%20%20%20%20%20%20%20%20%20%20%0A%0A%20%20%20%20%20%20%20%20%20%20%20%20circle_marker_de05d7ace84f43a8b61d24b6a667b418.bindPopup%28popup_17c0d695fcde4daeb4fcf7571169ca02%29%0A%20%20%20%20%20%20%20%20%20%20%20%20%3B%0A%0A%20%20%20%20%20%20%20%20%20%20%20%20%0A%20%20%20%20%20%20%20%20%0A%20%20%20%20%0A%20%20%20%20%20%20%20%20%20%20%20%20var%20circle_marker_15da281a6d894bd3a258ce90627e368b%20%3D%20L.circleMarker%28%0A%20%20%20%20%20%20%20%20%20%20%20%20%20%20%20%20%5B42.3016%2C%20-71.0676%5D%2C%0A%20%20%20%20%20%20%20%20%20%20%20%20%20%20%20%20%7B%0A%20%20%22bubblingMouseEvents%22%3A%20true%2C%0A%20%20%22color%22%3A%20%22blue%22%2C%0A%20%20%22dashArray%22%3A%20null%2C%0A%20%20%22dashOffset%22%3A%20null%2C%0A%20%20%22fill%22%3A%20true%2C%0A%20%20%22fillColor%22%3A%20%22%233186cc%22%2C%0A%20%20%22fillOpacity%22%3A%200.7%2C%0A%20%20%22fillRule%22%3A%20%22evenodd%22%2C%0A%20%20%22lineCap%22%3A%20%22round%22%2C%0A%20%20%22lineJoin%22%3A%20%22round%22%2C%0A%20%20%22opacity%22%3A%201.0%2C%0A%20%20%22radius%22%3A%205%2C%0A%20%20%22stroke%22%3A%20true%2C%0A%20%20%22weight%22%3A%203%0A%7D%0A%20%20%20%20%20%20%20%20%20%20%20%20%20%20%20%20%29%0A%20%20%20%20%20%20%20%20%20%20%20%20%20%20%20%20.addTo%28map_58d791b9b5b143238a7c24fa08f7fb8c%29%3B%0A%20%20%20%20%20%20%20%20%20%20%20%20%0A%20%20%20%20%0A%20%20%20%20%20%20%20%20%20%20%20%20var%20popup_d31a6e7b3a2343f999dfe430c4a41721%20%3D%20L.popup%28%7BmaxWidth%3A%20%27100%25%27%0A%20%20%20%20%20%20%20%20%20%20%20%20%0A%20%20%20%20%20%20%20%20%20%20%20%20%7D%29%3B%0A%0A%20%20%20%20%20%20%20%20%20%20%20%20%0A%20%20%20%20%20%20%20%20%20%20%20%20%20%20%20%20var%20html_1ef5afb206af4275a8412a7c7ef109a0%20%3D%20%24%28%60%3Cdiv%20id%3D%22html_1ef5afb206af4275a8412a7c7ef109a0%22%20style%3D%22width%3A%20100.0%25%3B%20height%3A%20100.0%25%3B%22%3EDorchester%3C/div%3E%60%29%5B0%5D%3B%0A%20%20%20%20%20%20%20%20%20%20%20%20%20%20%20%20popup_d31a6e7b3a2343f999dfe430c4a41721.setContent%28html_1ef5afb206af4275a8412a7c7ef109a0%29%3B%0A%20%20%20%20%20%20%20%20%20%20%20%20%0A%0A%20%20%20%20%20%20%20%20%20%20%20%20circle_marker_15da281a6d894bd3a258ce90627e368b.bindPopup%28popup_d31a6e7b3a2343f999dfe430c4a41721%29%0A%20%20%20%20%20%20%20%20%20%20%20%20%3B%0A%0A%20%20%20%20%20%20%20%20%20%20%20%20%0A%20%20%20%20%20%20%20%20%0A%20%20%20%20%0A%20%20%20%20%20%20%20%20%20%20%20%20var%20circle_marker_b456625543764e829631c7772c7e6c7f%20%3D%20L.circleMarker%28%0A%20%20%20%20%20%20%20%20%20%20%20%20%20%20%20%20%5B42.3381%2C%20-71.0476%5D%2C%0A%20%20%20%20%20%20%20%20%20%20%20%20%20%20%20%20%7B%0A%20%20%22bubblingMouseEvents%22%3A%20true%2C%0A%20%20%22color%22%3A%20%22blue%22%2C%0A%20%20%22dashArray%22%3A%20null%2C%0A%20%20%22dashOffset%22%3A%20null%2C%0A%20%20%22fill%22%3A%20true%2C%0A%20%20%22fillColor%22%3A%20%22%233186cc%22%2C%0A%20%20%22fillOpacity%22%3A%200.7%2C%0A%20%20%22fillRule%22%3A%20%22evenodd%22%2C%0A%20%20%22lineCap%22%3A%20%22round%22%2C%0A%20%20%22lineJoin%22%3A%20%22round%22%2C%0A%20%20%22opacity%22%3A%201.0%2C%0A%20%20%22radius%22%3A%205%2C%0A%20%20%22stroke%22%3A%20true%2C%0A%20%20%22weight%22%3A%203%0A%7D%0A%20%20%20%20%20%20%20%20%20%20%20%20%20%20%20%20%29%0A%20%20%20%20%20%20%20%20%20%20%20%20%20%20%20%20.addTo%28map_58d791b9b5b143238a7c24fa08f7fb8c%29%3B%0A%20%20%20%20%20%20%20%20%20%20%20%20%0A%20%20%20%20%0A%20%20%20%20%20%20%20%20%20%20%20%20var%20popup_afa61ed7d9a7431c81f6c025c870b941%20%3D%20L.popup%28%7BmaxWidth%3A%20%27100%25%27%0A%20%20%20%20%20%20%20%20%20%20%20%20%0A%20%20%20%20%20%20%20%20%20%20%20%20%7D%29%3B%0A%0A%20%20%20%20%20%20%20%20%20%20%20%20%0A%20%20%20%20%20%20%20%20%20%20%20%20%20%20%20%20var%20html_074a70ce2a994be6a5584ddf0c0a4751%20%3D%20%24%28%60%3Cdiv%20id%3D%22html_074a70ce2a994be6a5584ddf0c0a4751%22%20style%3D%22width%3A%20100.0%25%3B%20height%3A%20100.0%25%3B%22%3ESouth%20Boston%3C/div%3E%60%29%5B0%5D%3B%0A%20%20%20%20%20%20%20%20%20%20%20%20%20%20%20%20popup_afa61ed7d9a7431c81f6c025c870b941.setContent%28html_074a70ce2a994be6a5584ddf0c0a4751%29%3B%0A%20%20%20%20%20%20%20%20%20%20%20%20%0A%0A%20%20%20%20%20%20%20%20%20%20%20%20circle_marker_b456625543764e829631c7772c7e6c7f.bindPopup%28popup_afa61ed7d9a7431c81f6c025c870b941%29%0A%20%20%20%20%20%20%20%20%20%20%20%20%3B%0A%0A%20%20%20%20%20%20%20%20%20%20%20%20%0A%20%20%20%20%20%20%20%20%0A%20%20%20%20%0A%20%20%20%20%20%20%20%20%20%20%20%20var%20circle_marker_b4634a4eff6a4fcca2e9ca347c60ae7a%20%3D%20L.circleMarker%28%0A%20%20%20%20%20%20%20%20%20%20%20%20%20%20%20%20%5B42.3539%2C%20-71.1337%5D%2C%0A%20%20%20%20%20%20%20%20%20%20%20%20%20%20%20%20%7B%0A%20%20%22bubblingMouseEvents%22%3A%20true%2C%0A%20%20%22color%22%3A%20%22blue%22%2C%0A%20%20%22dashArray%22%3A%20null%2C%0A%20%20%22dashOffset%22%3A%20null%2C%0A%20%20%22fill%22%3A%20true%2C%0A%20%20%22fillColor%22%3A%20%22%233186cc%22%2C%0A%20%20%22fillOpacity%22%3A%200.7%2C%0A%20%20%22fillRule%22%3A%20%22evenodd%22%2C%0A%20%20%22lineCap%22%3A%20%22round%22%2C%0A%20%20%22lineJoin%22%3A%20%22round%22%2C%0A%20%20%22opacity%22%3A%201.0%2C%0A%20%20%22radius%22%3A%205%2C%0A%20%20%22stroke%22%3A%20true%2C%0A%20%20%22weight%22%3A%203%0A%7D%0A%20%20%20%20%20%20%20%20%20%20%20%20%20%20%20%20%29%0A%20%20%20%20%20%20%20%20%20%20%20%20%20%20%20%20.addTo%28map_58d791b9b5b143238a7c24fa08f7fb8c%29%3B%0A%20%20%20%20%20%20%20%20%20%20%20%20%0A%20%20%20%20%0A%20%20%20%20%20%20%20%20%20%20%20%20var%20popup_f561320e9bb24130aee1162f65bcbf6d%20%3D%20L.popup%28%7BmaxWidth%3A%20%27100%25%27%0A%20%20%20%20%20%20%20%20%20%20%20%20%0A%20%20%20%20%20%20%20%20%20%20%20%20%7D%29%3B%0A%0A%20%20%20%20%20%20%20%20%20%20%20%20%0A%20%20%20%20%20%20%20%20%20%20%20%20%20%20%20%20var%20html_5a0d7bfba53c41d4a32db15cf85351ed%20%3D%20%24%28%60%3Cdiv%20id%3D%22html_5a0d7bfba53c41d4a32db15cf85351ed%22%20style%3D%22width%3A%20100.0%25%3B%20height%3A%20100.0%25%3B%22%3EAllston%3C/div%3E%60%29%5B0%5D%3B%0A%20%20%20%20%20%20%20%20%20%20%20%20%20%20%20%20popup_f561320e9bb24130aee1162f65bcbf6d.setContent%28html_5a0d7bfba53c41d4a32db15cf85351ed%29%3B%0A%20%20%20%20%20%20%20%20%20%20%20%20%0A%0A%20%20%20%20%20%20%20%20%20%20%20%20circle_marker_b4634a4eff6a4fcca2e9ca347c60ae7a.bindPopup%28popup_f561320e9bb24130aee1162f65bcbf6d%29%0A%20%20%20%20%20%20%20%20%20%20%20%20%3B%0A%0A%20%20%20%20%20%20%20%20%20%20%20%20%0A%20%20%20%20%20%20%20%20%0A%20%20%20%20%0A%20%20%20%20%20%20%20%20%20%20%20%20var%20circle_marker_f21faeec120341c189f1ba5c341813af%20%3D%20L.circleMarker%28%0A%20%20%20%20%20%20%20%20%20%20%20%20%20%20%20%20%5B42.3236%2C%20-71.057%5D%2C%0A%20%20%20%20%20%20%20%20%20%20%20%20%20%20%20%20%7B%0A%20%20%22bubblingMouseEvents%22%3A%20true%2C%0A%20%20%22color%22%3A%20%22blue%22%2C%0A%20%20%22dashArray%22%3A%20null%2C%0A%20%20%22dashOffset%22%3A%20null%2C%0A%20%20%22fill%22%3A%20true%2C%0A%20%20%22fillColor%22%3A%20%22%233186cc%22%2C%0A%20%20%22fillOpacity%22%3A%200.7%2C%0A%20%20%22fillRule%22%3A%20%22evenodd%22%2C%0A%20%20%22lineCap%22%3A%20%22round%22%2C%0A%20%20%22lineJoin%22%3A%20%22round%22%2C%0A%20%20%22opacity%22%3A%201.0%2C%0A%20%20%22radius%22%3A%205%2C%0A%20%20%22stroke%22%3A%20true%2C%0A%20%20%22weight%22%3A%203%0A%7D%0A%20%20%20%20%20%20%20%20%20%20%20%20%20%20%20%20%29%0A%20%20%20%20%20%20%20%20%20%20%20%20%20%20%20%20.addTo%28map_58d791b9b5b143238a7c24fa08f7fb8c%29%3B%0A%20%20%20%20%20%20%20%20%20%20%20%20%0A%20%20%20%20%0A%20%20%20%20%20%20%20%20%20%20%20%20var%20popup_369d98cdc0a24c8193a9299a20ae5cce%20%3D%20L.popup%28%7BmaxWidth%3A%20%27100%25%27%0A%20%20%20%20%20%20%20%20%20%20%20%20%0A%20%20%20%20%20%20%20%20%20%20%20%20%7D%29%3B%0A%0A%20%20%20%20%20%20%20%20%20%20%20%20%0A%20%20%20%20%20%20%20%20%20%20%20%20%20%20%20%20var%20html_7e5ad8ab9f2543b0bc31a12b0cb3eeac%20%3D%20%24%28%60%3Cdiv%20id%3D%22html_7e5ad8ab9f2543b0bc31a12b0cb3eeac%22%20style%3D%22width%3A%20100.0%25%3B%20height%3A%20100.0%25%3B%22%3EMid%20Dorchester%3C/div%3E%60%29%5B0%5D%3B%0A%20%20%20%20%20%20%20%20%20%20%20%20%20%20%20%20popup_369d98cdc0a24c8193a9299a20ae5cce.setContent%28html_7e5ad8ab9f2543b0bc31a12b0cb3eeac%29%3B%0A%20%20%20%20%20%20%20%20%20%20%20%20%0A%0A%20%20%20%20%20%20%20%20%20%20%20%20circle_marker_f21faeec120341c189f1ba5c341813af.bindPopup%28popup_369d98cdc0a24c8193a9299a20ae5cce%29%0A%20%20%20%20%20%20%20%20%20%20%20%20%3B%0A%0A%20%20%20%20%20%20%20%20%20%20%20%20%0A%20%20%20%20%20%20%20%20%0A%3C/script%3E onload=\"this.contentDocument.open();this.contentDocument.write(    decodeURIComponent(this.getAttribute('data-html')));this.contentDocument.close();\" allowfullscreen webkitallowfullscreen mozallowfullscreen></iframe></div></div>"
            ],
            "text/plain": [
              "<folium.folium.Map at 0x7f52af183190>"
            ]
          },
          "metadata": {
            "tags": []
          },
          "execution_count": 8
        }
      ]
    },
    {
      "cell_type": "markdown",
      "metadata": {
        "id": "WLLFRPYcn7jh"
      },
      "source": [
        "### **3. Methodology**"
      ]
    },
    {
      "cell_type": "markdown",
      "metadata": {
        "id": "fvcRzdgPuLF3"
      },
      "source": [
        "Firstly, we find the ten **nearest neighborhoods in Boston from the city center**. This is because we assume only when the neighborhood is near the city center, the restaurant can gain enough customers and earn profits."
      ]
    },
    {
      "cell_type": "markdown",
      "metadata": {
        "id": "R6JjUxq4u0iV"
      },
      "source": [
        "Secondly, among the Top10 neighborhoods, we explore them by finding the **top 100 venues that are within a radius of 500 meters**. The number of venues are an important indicator of the neighborhood's living conditions."
      ]
    },
    {
      "cell_type": "markdown",
      "metadata": {
        "id": "hx9RUFdTvZwk"
      },
      "source": [
        "Thirdly, among all the venues, we try to find **the number of restaurants** to see how competitive the catering industry is in the neighborhood. If the restaurants are intensely distributed in this area, then it might be hard to enter the market and earn decent profits."
      ]
    },
    {
      "cell_type": "markdown",
      "metadata": {
        "id": "ROx4W2CTwDNM"
      },
      "source": [
        "Fourthly, among all the restaurants, we try to find **how many of them are Chinese restaurants**. If the neighborhood is already crowded with Chinese restaurants, then it is not ideal to open an alike restaurant there to make profits."
      ]
    },
    {
      "cell_type": "markdown",
      "metadata": {
        "id": "ufsPJ-lSwbw7"
      },
      "source": [
        "Lastly, based on these information, we develop **a evaluation score** which are related to the relevant variables we get previously. According to the score, we can rank the candidate neighborhood and propose several good choices for opening a Chinese restaurant."
      ]
    },
    {
      "cell_type": "markdown",
      "metadata": {
        "id": "melkwRRjoxHg"
      },
      "source": [
        "### **4. Analysis**"
      ]
    },
    {
      "cell_type": "markdown",
      "metadata": {
        "id": "JYnwMgVSZOu4"
      },
      "source": [
        "*Find the geographical coordinates of Boston city center.*"
      ]
    },
    {
      "cell_type": "code",
      "metadata": {
        "colab": {
          "base_uri": "https://localhost:8080/"
        },
        "id": "prVyLrEXVql5",
        "outputId": "dc2c05d8-e37a-42e6-a1b9-40987d53f47d"
      },
      "source": [
        "address = '4 S Market Street, MA'\n",
        "\n",
        "geolocator = Nominatim(user_agent=\"ny_explorer\")\n",
        "location = geolocator.geocode(address)\n",
        "center_latitude = location.latitude\n",
        "center_longitude = location.longitude\n",
        "print('The geograpical coordinate of Boston city center are {}, {}.'.format(center_latitude, center_longitude))"
      ],
      "execution_count": 9,
      "outputs": [
        {
          "output_type": "stream",
          "text": [
            "The geograpical coordinate of Boston city center are 42.359706, -71.0550683.\n"
          ],
          "name": "stdout"
        }
      ]
    },
    {
      "cell_type": "markdown",
      "metadata": {
        "id": "GWLDcHJYZzN1"
      },
      "source": [
        "*Define the distance between two places according to the geographical coordinates.*"
      ]
    },
    {
      "cell_type": "code",
      "metadata": {
        "id": "Cn8wfUuKZWdO"
      },
      "source": [
        "from math import radians, cos, sin, asin, sqrt\n",
        "def dist(lat1, long1, lat2, long2):\n",
        "    \"\"\"\n",
        "    Calculate the great circle distance between two points \n",
        "    on the earth (specified in decimal degrees)\n",
        "    \"\"\"\n",
        "    # convert decimal degrees to radians \n",
        "    lat1, long1, lat2, long2 = map(radians, [lat1, long1, lat2, long2])\n",
        "    # haversine formula \n",
        "    dlon = long2 - long1 \n",
        "    dlat = lat2 - lat1 \n",
        "    a = sin(dlat/2)**2 + cos(lat1) * cos(lat2) * sin(dlon/2)**2\n",
        "    c = 2 * asin(sqrt(a)) \n",
        "    # Radius of earth in kilometers is 6371\n",
        "    km = 6371* c\n",
        "    return km"
      ],
      "execution_count": 10,
      "outputs": []
    },
    {
      "cell_type": "markdown",
      "metadata": {
        "id": "n6G8vL6pSqDT"
      },
      "source": [
        "*Find the ten nearest neighborhoods from the Boston city center.*"
      ]
    },
    {
      "cell_type": "code",
      "metadata": {
        "id": "cbcGYZn5ZkZG"
      },
      "source": [
        "dist_list = []\n",
        "for i in range(len(df)):\n",
        "  dist_list.append(dist(df.loc[i,'Latitude'], df.loc[i,'Longitude'], center_latitude, center_longitude))"
      ],
      "execution_count": 11,
      "outputs": []
    },
    {
      "cell_type": "code",
      "metadata": {
        "id": "olTNagmAb6t9"
      },
      "source": [
        "df['Distance from the City Center (KM)'] = dist_list"
      ],
      "execution_count": 12,
      "outputs": []
    },
    {
      "cell_type": "code",
      "metadata": {
        "id": "bRSJv7p4cemh"
      },
      "source": [
        "df = df.sort_values(by=['Distance from the City Center (KM)'], axis=0, ascending=True)"
      ],
      "execution_count": 13,
      "outputs": []
    },
    {
      "cell_type": "code",
      "metadata": {
        "id": "Py7NtOaMdnAf"
      },
      "source": [
        "df_top10 = df.head(10)"
      ],
      "execution_count": 14,
      "outputs": []
    },
    {
      "cell_type": "code",
      "metadata": {
        "id": "hnp6oRxkdr8c"
      },
      "source": [
        "df_top10.index = [0,1,2,3,4,5,6,7,8,9]"
      ],
      "execution_count": 15,
      "outputs": []
    },
    {
      "cell_type": "code",
      "metadata": {
        "colab": {
          "base_uri": "https://localhost:8080/",
          "height": 363
        },
        "id": "8lBOhmeyyayE",
        "outputId": "a6a67fa2-420e-4604-ce23-c9d9dce4bb66"
      },
      "source": [
        "df_top10"
      ],
      "execution_count": 16,
      "outputs": [
        {
          "output_type": "execute_result",
          "data": {
            "text/html": [
              "<div>\n",
              "<style scoped>\n",
              "    .dataframe tbody tr th:only-of-type {\n",
              "        vertical-align: middle;\n",
              "    }\n",
              "\n",
              "    .dataframe tbody tr th {\n",
              "        vertical-align: top;\n",
              "    }\n",
              "\n",
              "    .dataframe thead th {\n",
              "        text-align: right;\n",
              "    }\n",
              "</style>\n",
              "<table border=\"1\" class=\"dataframe\">\n",
              "  <thead>\n",
              "    <tr style=\"text-align: right;\">\n",
              "      <th></th>\n",
              "      <th>Neighborhood</th>\n",
              "      <th>Latitude</th>\n",
              "      <th>Longitude</th>\n",
              "      <th>Distance from the City Center (KM)</th>\n",
              "    </tr>\n",
              "  </thead>\n",
              "  <tbody>\n",
              "    <tr>\n",
              "      <th>0</th>\n",
              "      <td>Downtown</td>\n",
              "      <td>42.3557</td>\n",
              "      <td>-71.0572</td>\n",
              "      <td>0.478647</td>\n",
              "    </tr>\n",
              "    <tr>\n",
              "      <th>1</th>\n",
              "      <td>North End</td>\n",
              "      <td>42.3647</td>\n",
              "      <td>-71.0542</td>\n",
              "      <td>0.559871</td>\n",
              "    </tr>\n",
              "    <tr>\n",
              "      <th>2</th>\n",
              "      <td>West End</td>\n",
              "      <td>42.3644</td>\n",
              "      <td>-71.0661</td>\n",
              "      <td>1.045930</td>\n",
              "    </tr>\n",
              "    <tr>\n",
              "      <th>3</th>\n",
              "      <td>Chinatown</td>\n",
              "      <td>42.3501</td>\n",
              "      <td>-71.0624</td>\n",
              "      <td>1.226325</td>\n",
              "    </tr>\n",
              "    <tr>\n",
              "      <th>4</th>\n",
              "      <td>Beacon Hill</td>\n",
              "      <td>42.3588</td>\n",
              "      <td>-71.0707</td>\n",
              "      <td>1.288336</td>\n",
              "    </tr>\n",
              "    <tr>\n",
              "      <th>5</th>\n",
              "      <td>Bay Village</td>\n",
              "      <td>42.3490</td>\n",
              "      <td>-71.0698</td>\n",
              "      <td>1.697815</td>\n",
              "    </tr>\n",
              "    <tr>\n",
              "      <th>6</th>\n",
              "      <td>East Boston</td>\n",
              "      <td>42.3702</td>\n",
              "      <td>-71.0389</td>\n",
              "      <td>1.768092</td>\n",
              "    </tr>\n",
              "    <tr>\n",
              "      <th>7</th>\n",
              "      <td>Charlestown</td>\n",
              "      <td>42.3782</td>\n",
              "      <td>-71.0602</td>\n",
              "      <td>2.099208</td>\n",
              "    </tr>\n",
              "    <tr>\n",
              "      <th>8</th>\n",
              "      <td>Back Bay</td>\n",
              "      <td>42.3503</td>\n",
              "      <td>-71.0810</td>\n",
              "      <td>2.373688</td>\n",
              "    </tr>\n",
              "    <tr>\n",
              "      <th>9</th>\n",
              "      <td>South Boston</td>\n",
              "      <td>42.3381</td>\n",
              "      <td>-71.0476</td>\n",
              "      <td>2.479632</td>\n",
              "    </tr>\n",
              "  </tbody>\n",
              "</table>\n",
              "</div>"
            ],
            "text/plain": [
              "   Neighborhood  Latitude  Longitude  Distance from the City Center (KM)\n",
              "0      Downtown   42.3557   -71.0572                            0.478647\n",
              "1     North End   42.3647   -71.0542                            0.559871\n",
              "2      West End   42.3644   -71.0661                            1.045930\n",
              "3     Chinatown   42.3501   -71.0624                            1.226325\n",
              "4   Beacon Hill   42.3588   -71.0707                            1.288336\n",
              "5   Bay Village   42.3490   -71.0698                            1.697815\n",
              "6   East Boston   42.3702   -71.0389                            1.768092\n",
              "7   Charlestown   42.3782   -71.0602                            2.099208\n",
              "8      Back Bay   42.3503   -71.0810                            2.373688\n",
              "9  South Boston   42.3381   -71.0476                            2.479632"
            ]
          },
          "metadata": {
            "tags": []
          },
          "execution_count": 16
        }
      ]
    },
    {
      "cell_type": "markdown",
      "metadata": {
        "id": "4PK0nWnDwizN"
      },
      "source": [
        "*Explore the Top 10 neighborhoods one by one*"
      ]
    },
    {
      "cell_type": "code",
      "metadata": {
        "colab": {
          "base_uri": "https://localhost:8080/"
        },
        "id": "EQUingvoV8IY",
        "outputId": "54761101-e1a6-44ce-bc3c-6c1e7878575f"
      },
      "source": [
        "CLIENT_ID = 'GR1LXKC20RMWIHVKCO1IHVY2BNSDDLAMKEEVFQ5KBGYBVVSO' # your Foursquare ID\n",
        "CLIENT_SECRET = 'MJHDJDJQKTCLS5PN2ZC2JGOWM04PPYHDD441GC40WQOLC0EG' # your Foursquare Secret\n",
        "VERSION = '20180605' # Foursquare API version\n",
        "LIMIT = 100 # A default Foursquare API limit value\n",
        "\n",
        "print('Your credentails:')\n",
        "print('CLIENT_ID: ' + CLIENT_ID)\n",
        "print('CLIENT_SECRET:' + CLIENT_SECRET)"
      ],
      "execution_count": 17,
      "outputs": [
        {
          "output_type": "stream",
          "text": [
            "Your credentails:\n",
            "CLIENT_ID: GR1LXKC20RMWIHVKCO1IHVY2BNSDDLAMKEEVFQ5KBGYBVVSO\n",
            "CLIENT_SECRET:MJHDJDJQKTCLS5PN2ZC2JGOWM04PPYHDD441GC40WQOLC0EG\n"
          ],
          "name": "stdout"
        }
      ]
    },
    {
      "cell_type": "markdown",
      "metadata": {
        "id": "iC9fZSBJxqfV"
      },
      "source": [
        "*Now, let's get the top 100 venues that are in the district within a radius of 500 meters. After that, find the number of restaurants and specifically, Chinese restaurants.*"
      ]
    },
    {
      "cell_type": "code",
      "metadata": {
        "id": "lilRuCZj8iqX"
      },
      "source": [
        "venues_num = []\n",
        "restaurants_num = []\n",
        "chinese_restaurants_num = []"
      ],
      "execution_count": 18,
      "outputs": []
    },
    {
      "cell_type": "code",
      "metadata": {
        "id": "8q-yD9gq6uq4"
      },
      "source": [
        "def get_category_type(row):\n",
        "    try:\n",
        "        categories_list = row['categories']\n",
        "    except:\n",
        "        categories_list = row['venue.categories']\n",
        "        \n",
        "    if len(categories_list) == 0:\n",
        "        return None\n",
        "    else:\n",
        "        return categories_list[0]['name']"
      ],
      "execution_count": 19,
      "outputs": []
    },
    {
      "cell_type": "code",
      "metadata": {
        "id": "Jj2UIgil6HOc"
      },
      "source": [
        "def get_info(i):\n",
        "  neighborhood_latitude = df_top10.loc[i, 'Latitude'] # neighborhood latitude value\n",
        "  neighborhood_longitude = df_top10.loc[i, 'Longitude'] # neighborhood longitude value\n",
        "\n",
        "  neighborhood_name = df_top10.loc[i, 'Neighborhood'] # neighborhood name\n",
        "\n",
        "  print('Latitude and longitude values of {} are {}, {}.'.format(neighborhood_name, \n",
        "                                                                neighborhood_latitude, \n",
        "                                                                neighborhood_longitude))\n",
        "  \n",
        "  LIMIT = 100\n",
        "  radius = 500\n",
        "  url = 'https://api.foursquare.com/v2/venues/explore?&client_id={}&client_secret={}&v={}&ll={},{}&radius={}&limit={}'.format(\n",
        "  CLIENT_ID, \n",
        "  CLIENT_SECRET, \n",
        "  VERSION, \n",
        "  neighborhood_latitude, \n",
        "  neighborhood_longitude, \n",
        "  radius, \n",
        "  LIMIT)\n",
        "\n",
        "  results = requests.get(url).json()\n",
        "\n",
        "  venues = results['response']['groups'][0]['items']\n",
        "    \n",
        "  nearby_venues = json_normalize(venues) # flatten JSON\n",
        "\n",
        "  # filter columns\n",
        "  filtered_columns = ['venue.name', 'venue.categories', 'venue.location.lat', 'venue.location.lng']\n",
        "  nearby_venues =nearby_venues.loc[:, filtered_columns]\n",
        "\n",
        "  # filter the category for each row\n",
        "  nearby_venues['venue.categories'] = nearby_venues.apply(get_category_type, axis=1)\n",
        "\n",
        "  # clean columns\n",
        "  nearby_venues.columns = [col.split(\".\")[-1] for col in nearby_venues.columns]\n",
        "\n",
        "  nearby_restaurants = nearby_venues[nearby_venues['categories'].str.contains(\"Restaurant\")]\n",
        "\n",
        "  nearby_china_restaurants = nearby_restaurants[nearby_restaurants['categories'].str.contains(\"Chinese\")]\n",
        "\n",
        "  print('In '+ neighborhood_name + ' {} venues were returned by Foursquare.'.format(nearby_venues.shape[0]))\n",
        "  venues_num.append(nearby_venues.shape[0])\n",
        "  print('In '+ neighborhood_name + ' {} restaurants were returned by Foursquare.'.format(nearby_restaurants.shape[0]))\n",
        "  restaurants_num.append(nearby_restaurants.shape[0])\n",
        "  print('In '+ neighborhood_name + ' {} Chinese restaurants were returned by Foursquare.'.format(nearby_china_restaurants.shape[0]))\n",
        "  chinese_restaurants_num.append(nearby_china_restaurants.shape[0])"
      ],
      "execution_count": 20,
      "outputs": []
    },
    {
      "cell_type": "markdown",
      "metadata": {
        "id": "cj698dEy2avx"
      },
      "source": [
        "### **1. Downtown**"
      ]
    },
    {
      "cell_type": "code",
      "metadata": {
        "colab": {
          "base_uri": "https://localhost:8080/"
        },
        "id": "4cvYYTXH8Ffm",
        "outputId": "3c50f492-d270-4d2e-fad6-c6035a45b592"
      },
      "source": [
        "get_info(0)"
      ],
      "execution_count": 21,
      "outputs": [
        {
          "output_type": "stream",
          "text": [
            "Latitude and longitude values of Downtown are 42.3557, -71.0572.\n",
            "In Downtown 96 venues were returned by Foursquare.\n",
            "In Downtown 25 restaurants were returned by Foursquare.\n",
            "In Downtown 1 Chinese restaurants were returned by Foursquare.\n"
          ],
          "name": "stdout"
        },
        {
          "output_type": "stream",
          "text": [
            "/usr/local/lib/python3.7/dist-packages/ipykernel_launcher.py:26: FutureWarning: pandas.io.json.json_normalize is deprecated, use pandas.json_normalize instead\n"
          ],
          "name": "stderr"
        }
      ]
    },
    {
      "cell_type": "markdown",
      "metadata": {
        "id": "9kkZ2eQe_Qx1"
      },
      "source": [
        "### **2. North End**"
      ]
    },
    {
      "cell_type": "code",
      "metadata": {
        "colab": {
          "base_uri": "https://localhost:8080/"
        },
        "id": "VZ6ahkSK-aSx",
        "outputId": "f1d73267-8304-40cd-c53b-8daf3ad31fee"
      },
      "source": [
        "get_info(1)"
      ],
      "execution_count": 22,
      "outputs": [
        {
          "output_type": "stream",
          "text": [
            "Latitude and longitude values of North End are 42.3647, -71.0542.\n",
            "In North End 84 venues were returned by Foursquare.\n",
            "In North End 30 restaurants were returned by Foursquare.\n",
            "In North End 0 Chinese restaurants were returned by Foursquare.\n"
          ],
          "name": "stdout"
        },
        {
          "output_type": "stream",
          "text": [
            "/usr/local/lib/python3.7/dist-packages/ipykernel_launcher.py:26: FutureWarning: pandas.io.json.json_normalize is deprecated, use pandas.json_normalize instead\n"
          ],
          "name": "stderr"
        }
      ]
    },
    {
      "cell_type": "markdown",
      "metadata": {
        "id": "kfXNI__e_h7U"
      },
      "source": [
        "### **3. West End**"
      ]
    },
    {
      "cell_type": "code",
      "metadata": {
        "colab": {
          "base_uri": "https://localhost:8080/"
        },
        "id": "6oeCkWH6_V-t",
        "outputId": "fc79a3b7-c94d-4826-afbc-b9944e583478"
      },
      "source": [
        "get_info(2)"
      ],
      "execution_count": 23,
      "outputs": [
        {
          "output_type": "stream",
          "text": [
            "Latitude and longitude values of West End are 42.3644, -71.0661.\n",
            "In West End 83 venues were returned by Foursquare.\n",
            "In West End 16 restaurants were returned by Foursquare.\n",
            "In West End 0 Chinese restaurants were returned by Foursquare.\n"
          ],
          "name": "stdout"
        },
        {
          "output_type": "stream",
          "text": [
            "/usr/local/lib/python3.7/dist-packages/ipykernel_launcher.py:26: FutureWarning: pandas.io.json.json_normalize is deprecated, use pandas.json_normalize instead\n"
          ],
          "name": "stderr"
        }
      ]
    },
    {
      "cell_type": "markdown",
      "metadata": {
        "id": "WzRlaHAc_szD"
      },
      "source": [
        "### **4. Chinatown**"
      ]
    },
    {
      "cell_type": "code",
      "metadata": {
        "colab": {
          "base_uri": "https://localhost:8080/"
        },
        "id": "6gACBOeC_kNQ",
        "outputId": "973ce967-5c88-4473-eb55-544bf550d1f5"
      },
      "source": [
        "get_info(3)"
      ],
      "execution_count": 24,
      "outputs": [
        {
          "output_type": "stream",
          "text": [
            "Latitude and longitude values of Chinatown are 42.3501, -71.0624.\n",
            "In Chinatown 78 venues were returned by Foursquare.\n",
            "In Chinatown 40 restaurants were returned by Foursquare.\n",
            "In Chinatown 15 Chinese restaurants were returned by Foursquare.\n"
          ],
          "name": "stdout"
        },
        {
          "output_type": "stream",
          "text": [
            "/usr/local/lib/python3.7/dist-packages/ipykernel_launcher.py:26: FutureWarning: pandas.io.json.json_normalize is deprecated, use pandas.json_normalize instead\n"
          ],
          "name": "stderr"
        }
      ]
    },
    {
      "cell_type": "markdown",
      "metadata": {
        "id": "cqLNHaBI_1IL"
      },
      "source": [
        "### **5. Beacon Hill**"
      ]
    },
    {
      "cell_type": "code",
      "metadata": {
        "colab": {
          "base_uri": "https://localhost:8080/"
        },
        "id": "_dDLwieu_rTk",
        "outputId": "84f62fb6-d818-47e8-9271-51f843861a95"
      },
      "source": [
        "get_info(4)"
      ],
      "execution_count": 25,
      "outputs": [
        {
          "output_type": "stream",
          "text": [
            "Latitude and longitude values of Beacon Hill are 42.3588, -71.0707.\n",
            "In Beacon Hill 28 venues were returned by Foursquare.\n",
            "In Beacon Hill 5 restaurants were returned by Foursquare.\n",
            "In Beacon Hill 0 Chinese restaurants were returned by Foursquare.\n"
          ],
          "name": "stdout"
        },
        {
          "output_type": "stream",
          "text": [
            "/usr/local/lib/python3.7/dist-packages/ipykernel_launcher.py:26: FutureWarning: pandas.io.json.json_normalize is deprecated, use pandas.json_normalize instead\n"
          ],
          "name": "stderr"
        }
      ]
    },
    {
      "cell_type": "markdown",
      "metadata": {
        "id": "VNynYMpZ_7f9"
      },
      "source": [
        "### **6. Bay Village**"
      ]
    },
    {
      "cell_type": "code",
      "metadata": {
        "colab": {
          "base_uri": "https://localhost:8080/"
        },
        "id": "qu7TGSE6_0Bk",
        "outputId": "0e5a74b2-c9e6-4594-9d64-0a198b958b01"
      },
      "source": [
        "get_info(5)"
      ],
      "execution_count": 26,
      "outputs": [
        {
          "output_type": "stream",
          "text": [
            "Latitude and longitude values of Bay Village are 42.349, -71.0698.\n",
            "In Bay Village 66 venues were returned by Foursquare.\n",
            "In Bay Village 5 restaurants were returned by Foursquare.\n",
            "In Bay Village 0 Chinese restaurants were returned by Foursquare.\n"
          ],
          "name": "stdout"
        },
        {
          "output_type": "stream",
          "text": [
            "/usr/local/lib/python3.7/dist-packages/ipykernel_launcher.py:26: FutureWarning: pandas.io.json.json_normalize is deprecated, use pandas.json_normalize instead\n"
          ],
          "name": "stderr"
        }
      ]
    },
    {
      "cell_type": "markdown",
      "metadata": {
        "id": "8OVtWPdnAB8Q"
      },
      "source": [
        "### **7. East Boston**"
      ]
    },
    {
      "cell_type": "code",
      "metadata": {
        "colab": {
          "base_uri": "https://localhost:8080/"
        },
        "id": "4NDdjzU8_6SU",
        "outputId": "a4808679-2b70-43ce-f845-1b8f2d41d2e5"
      },
      "source": [
        "get_info(6)"
      ],
      "execution_count": 27,
      "outputs": [
        {
          "output_type": "stream",
          "text": [
            "Latitude and longitude values of East Boston are 42.3702, -71.0389.\n",
            "In East Boston 43 venues were returned by Foursquare.\n",
            "In East Boston 14 restaurants were returned by Foursquare.\n",
            "In East Boston 1 Chinese restaurants were returned by Foursquare.\n"
          ],
          "name": "stdout"
        },
        {
          "output_type": "stream",
          "text": [
            "/usr/local/lib/python3.7/dist-packages/ipykernel_launcher.py:26: FutureWarning: pandas.io.json.json_normalize is deprecated, use pandas.json_normalize instead\n"
          ],
          "name": "stderr"
        }
      ]
    },
    {
      "cell_type": "markdown",
      "metadata": {
        "id": "J-hj_BGTALgm"
      },
      "source": [
        "### **8. Charlestown**"
      ]
    },
    {
      "cell_type": "code",
      "metadata": {
        "colab": {
          "base_uri": "https://localhost:8080/"
        },
        "id": "cPuh7k3SACZ-",
        "outputId": "4f594666-7484-4bb4-b354-e10007b4b1d3"
      },
      "source": [
        "get_info(7)"
      ],
      "execution_count": 28,
      "outputs": [
        {
          "output_type": "stream",
          "text": [
            "Latitude and longitude values of Charlestown are 42.3782, -71.0602.\n",
            "In Charlestown 20 venues were returned by Foursquare.\n",
            "In Charlestown 1 restaurants were returned by Foursquare.\n",
            "In Charlestown 0 Chinese restaurants were returned by Foursquare.\n"
          ],
          "name": "stdout"
        },
        {
          "output_type": "stream",
          "text": [
            "/usr/local/lib/python3.7/dist-packages/ipykernel_launcher.py:26: FutureWarning: pandas.io.json.json_normalize is deprecated, use pandas.json_normalize instead\n"
          ],
          "name": "stderr"
        }
      ]
    },
    {
      "cell_type": "markdown",
      "metadata": {
        "id": "NsW-hoiUATT8"
      },
      "source": [
        "### **9. Back Bay**"
      ]
    },
    {
      "cell_type": "code",
      "metadata": {
        "colab": {
          "base_uri": "https://localhost:8080/"
        },
        "id": "pqX95BQxAKwh",
        "outputId": "080d3942-0a55-4b41-f0cb-99adecdfde74"
      },
      "source": [
        "get_info(8)"
      ],
      "execution_count": 29,
      "outputs": [
        {
          "output_type": "stream",
          "text": [
            "Latitude and longitude values of Back Bay are 42.3503, -71.081.\n",
            "In Back Bay 93 venues were returned by Foursquare.\n",
            "In Back Bay 21 restaurants were returned by Foursquare.\n",
            "In Back Bay 0 Chinese restaurants were returned by Foursquare.\n"
          ],
          "name": "stdout"
        },
        {
          "output_type": "stream",
          "text": [
            "/usr/local/lib/python3.7/dist-packages/ipykernel_launcher.py:26: FutureWarning: pandas.io.json.json_normalize is deprecated, use pandas.json_normalize instead\n"
          ],
          "name": "stderr"
        }
      ]
    },
    {
      "cell_type": "markdown",
      "metadata": {
        "id": "FJNxMTX1Acic"
      },
      "source": [
        "### **10. South Boston**"
      ]
    },
    {
      "cell_type": "code",
      "metadata": {
        "colab": {
          "base_uri": "https://localhost:8080/"
        },
        "id": "sHIt8w7-ARjN",
        "outputId": "419cda65-483d-4269-b624-5f929119d538"
      },
      "source": [
        "get_info(9)"
      ],
      "execution_count": 30,
      "outputs": [
        {
          "output_type": "stream",
          "text": [
            "Latitude and longitude values of South Boston are 42.3381, -71.0476.\n",
            "In South Boston 27 venues were returned by Foursquare.\n",
            "In South Boston 4 restaurants were returned by Foursquare.\n",
            "In South Boston 0 Chinese restaurants were returned by Foursquare.\n"
          ],
          "name": "stdout"
        },
        {
          "output_type": "stream",
          "text": [
            "/usr/local/lib/python3.7/dist-packages/ipykernel_launcher.py:26: FutureWarning: pandas.io.json.json_normalize is deprecated, use pandas.json_normalize instead\n"
          ],
          "name": "stderr"
        }
      ]
    },
    {
      "cell_type": "markdown",
      "metadata": {
        "id": "OAvSLGwhrD53"
      },
      "source": [
        "*Add the number of venues, restaurants, Chinese restaurants information to the dataframe.*"
      ]
    },
    {
      "cell_type": "code",
      "metadata": {
        "colab": {
          "base_uri": "https://localhost:8080/"
        },
        "id": "82CMffmGAb0R",
        "outputId": "a8f3663f-6b16-4a43-ee97-36f41a6f79fd"
      },
      "source": [
        "df_top10['No. of Venues'] = venues_num\n",
        "df_top10['No. of Restaurants'] = restaurants_num\n",
        "df_top10['No. of Chinese Restaurants'] = chinese_restaurants_num"
      ],
      "execution_count": 31,
      "outputs": [
        {
          "output_type": "stream",
          "text": [
            "/usr/local/lib/python3.7/dist-packages/ipykernel_launcher.py:1: SettingWithCopyWarning: \n",
            "A value is trying to be set on a copy of a slice from a DataFrame.\n",
            "Try using .loc[row_indexer,col_indexer] = value instead\n",
            "\n",
            "See the caveats in the documentation: https://pandas.pydata.org/pandas-docs/stable/user_guide/indexing.html#returning-a-view-versus-a-copy\n",
            "  \"\"\"Entry point for launching an IPython kernel.\n",
            "/usr/local/lib/python3.7/dist-packages/ipykernel_launcher.py:2: SettingWithCopyWarning: \n",
            "A value is trying to be set on a copy of a slice from a DataFrame.\n",
            "Try using .loc[row_indexer,col_indexer] = value instead\n",
            "\n",
            "See the caveats in the documentation: https://pandas.pydata.org/pandas-docs/stable/user_guide/indexing.html#returning-a-view-versus-a-copy\n",
            "  \n",
            "/usr/local/lib/python3.7/dist-packages/ipykernel_launcher.py:3: SettingWithCopyWarning: \n",
            "A value is trying to be set on a copy of a slice from a DataFrame.\n",
            "Try using .loc[row_indexer,col_indexer] = value instead\n",
            "\n",
            "See the caveats in the documentation: https://pandas.pydata.org/pandas-docs/stable/user_guide/indexing.html#returning-a-view-versus-a-copy\n",
            "  This is separate from the ipykernel package so we can avoid doing imports until\n"
          ],
          "name": "stderr"
        }
      ]
    },
    {
      "cell_type": "code",
      "metadata": {
        "colab": {
          "base_uri": "https://localhost:8080/",
          "height": 363
        },
        "id": "FNJCOC3gBAx0",
        "outputId": "45fea951-807a-4a0c-e9f7-8f3638931821"
      },
      "source": [
        "df_top10"
      ],
      "execution_count": 32,
      "outputs": [
        {
          "output_type": "execute_result",
          "data": {
            "text/html": [
              "<div>\n",
              "<style scoped>\n",
              "    .dataframe tbody tr th:only-of-type {\n",
              "        vertical-align: middle;\n",
              "    }\n",
              "\n",
              "    .dataframe tbody tr th {\n",
              "        vertical-align: top;\n",
              "    }\n",
              "\n",
              "    .dataframe thead th {\n",
              "        text-align: right;\n",
              "    }\n",
              "</style>\n",
              "<table border=\"1\" class=\"dataframe\">\n",
              "  <thead>\n",
              "    <tr style=\"text-align: right;\">\n",
              "      <th></th>\n",
              "      <th>Neighborhood</th>\n",
              "      <th>Latitude</th>\n",
              "      <th>Longitude</th>\n",
              "      <th>Distance from the City Center (KM)</th>\n",
              "      <th>No. of Venues</th>\n",
              "      <th>No. of Restaurants</th>\n",
              "      <th>No. of Chinese Restaurants</th>\n",
              "    </tr>\n",
              "  </thead>\n",
              "  <tbody>\n",
              "    <tr>\n",
              "      <th>0</th>\n",
              "      <td>Downtown</td>\n",
              "      <td>42.3557</td>\n",
              "      <td>-71.0572</td>\n",
              "      <td>0.478647</td>\n",
              "      <td>96</td>\n",
              "      <td>25</td>\n",
              "      <td>1</td>\n",
              "    </tr>\n",
              "    <tr>\n",
              "      <th>1</th>\n",
              "      <td>North End</td>\n",
              "      <td>42.3647</td>\n",
              "      <td>-71.0542</td>\n",
              "      <td>0.559871</td>\n",
              "      <td>84</td>\n",
              "      <td>30</td>\n",
              "      <td>0</td>\n",
              "    </tr>\n",
              "    <tr>\n",
              "      <th>2</th>\n",
              "      <td>West End</td>\n",
              "      <td>42.3644</td>\n",
              "      <td>-71.0661</td>\n",
              "      <td>1.045930</td>\n",
              "      <td>83</td>\n",
              "      <td>16</td>\n",
              "      <td>0</td>\n",
              "    </tr>\n",
              "    <tr>\n",
              "      <th>3</th>\n",
              "      <td>Chinatown</td>\n",
              "      <td>42.3501</td>\n",
              "      <td>-71.0624</td>\n",
              "      <td>1.226325</td>\n",
              "      <td>78</td>\n",
              "      <td>40</td>\n",
              "      <td>15</td>\n",
              "    </tr>\n",
              "    <tr>\n",
              "      <th>4</th>\n",
              "      <td>Beacon Hill</td>\n",
              "      <td>42.3588</td>\n",
              "      <td>-71.0707</td>\n",
              "      <td>1.288336</td>\n",
              "      <td>28</td>\n",
              "      <td>5</td>\n",
              "      <td>0</td>\n",
              "    </tr>\n",
              "    <tr>\n",
              "      <th>5</th>\n",
              "      <td>Bay Village</td>\n",
              "      <td>42.3490</td>\n",
              "      <td>-71.0698</td>\n",
              "      <td>1.697815</td>\n",
              "      <td>66</td>\n",
              "      <td>5</td>\n",
              "      <td>0</td>\n",
              "    </tr>\n",
              "    <tr>\n",
              "      <th>6</th>\n",
              "      <td>East Boston</td>\n",
              "      <td>42.3702</td>\n",
              "      <td>-71.0389</td>\n",
              "      <td>1.768092</td>\n",
              "      <td>43</td>\n",
              "      <td>14</td>\n",
              "      <td>1</td>\n",
              "    </tr>\n",
              "    <tr>\n",
              "      <th>7</th>\n",
              "      <td>Charlestown</td>\n",
              "      <td>42.3782</td>\n",
              "      <td>-71.0602</td>\n",
              "      <td>2.099208</td>\n",
              "      <td>20</td>\n",
              "      <td>1</td>\n",
              "      <td>0</td>\n",
              "    </tr>\n",
              "    <tr>\n",
              "      <th>8</th>\n",
              "      <td>Back Bay</td>\n",
              "      <td>42.3503</td>\n",
              "      <td>-71.0810</td>\n",
              "      <td>2.373688</td>\n",
              "      <td>93</td>\n",
              "      <td>21</td>\n",
              "      <td>0</td>\n",
              "    </tr>\n",
              "    <tr>\n",
              "      <th>9</th>\n",
              "      <td>South Boston</td>\n",
              "      <td>42.3381</td>\n",
              "      <td>-71.0476</td>\n",
              "      <td>2.479632</td>\n",
              "      <td>27</td>\n",
              "      <td>4</td>\n",
              "      <td>0</td>\n",
              "    </tr>\n",
              "  </tbody>\n",
              "</table>\n",
              "</div>"
            ],
            "text/plain": [
              "   Neighborhood  Latitude  ...  No. of Restaurants  No. of Chinese Restaurants\n",
              "0      Downtown   42.3557  ...                  25                           1\n",
              "1     North End   42.3647  ...                  30                           0\n",
              "2      West End   42.3644  ...                  16                           0\n",
              "3     Chinatown   42.3501  ...                  40                          15\n",
              "4   Beacon Hill   42.3588  ...                   5                           0\n",
              "5   Bay Village   42.3490  ...                   5                           0\n",
              "6   East Boston   42.3702  ...                  14                           1\n",
              "7   Charlestown   42.3782  ...                   1                           0\n",
              "8      Back Bay   42.3503  ...                  21                           0\n",
              "9  South Boston   42.3381  ...                   4                           0\n",
              "\n",
              "[10 rows x 7 columns]"
            ]
          },
          "metadata": {
            "tags": []
          },
          "execution_count": 32
        }
      ]
    },
    {
      "cell_type": "markdown",
      "metadata": {
        "id": "Mq_bQeY_rYoF"
      },
      "source": [
        "*Calculate the Restaurants/Venues Ratio*"
      ]
    },
    {
      "cell_type": "code",
      "metadata": {
        "colab": {
          "base_uri": "https://localhost:8080/"
        },
        "id": "wYr1IkxWBBlZ",
        "outputId": "b1ab98bd-622c-4db7-d3f4-eba50ef2c391"
      },
      "source": [
        "df_top10['Restaurants/Venues Ratio'] = df_top10['No. of Restaurants'] / df_top10['No. of Venues']"
      ],
      "execution_count": 33,
      "outputs": [
        {
          "output_type": "stream",
          "text": [
            "/usr/local/lib/python3.7/dist-packages/ipykernel_launcher.py:1: SettingWithCopyWarning: \n",
            "A value is trying to be set on a copy of a slice from a DataFrame.\n",
            "Try using .loc[row_indexer,col_indexer] = value instead\n",
            "\n",
            "See the caveats in the documentation: https://pandas.pydata.org/pandas-docs/stable/user_guide/indexing.html#returning-a-view-versus-a-copy\n",
            "  \"\"\"Entry point for launching an IPython kernel.\n"
          ],
          "name": "stderr"
        }
      ]
    },
    {
      "cell_type": "markdown",
      "metadata": {
        "id": "0KCYREmwrl8W"
      },
      "source": [
        "*Calculate the Chinese Restaurants/Restaurants Ratio*"
      ]
    },
    {
      "cell_type": "code",
      "metadata": {
        "colab": {
          "base_uri": "https://localhost:8080/"
        },
        "id": "CPuqK_ghCWyN",
        "outputId": "ced8c872-67d2-453f-9a88-c54b94363598"
      },
      "source": [
        "df_top10['Chinese Restaurants/Restaurants Ratio'] = df_top10['No. of Chinese Restaurants'] / df_top10['No. of Restaurants']"
      ],
      "execution_count": 34,
      "outputs": [
        {
          "output_type": "stream",
          "text": [
            "/usr/local/lib/python3.7/dist-packages/ipykernel_launcher.py:1: SettingWithCopyWarning: \n",
            "A value is trying to be set on a copy of a slice from a DataFrame.\n",
            "Try using .loc[row_indexer,col_indexer] = value instead\n",
            "\n",
            "See the caveats in the documentation: https://pandas.pydata.org/pandas-docs/stable/user_guide/indexing.html#returning-a-view-versus-a-copy\n",
            "  \"\"\"Entry point for launching an IPython kernel.\n"
          ],
          "name": "stderr"
        }
      ]
    },
    {
      "cell_type": "code",
      "metadata": {
        "colab": {
          "base_uri": "https://localhost:8080/",
          "height": 397
        },
        "id": "YPaZe7dnCZkw",
        "outputId": "0475d6ca-1a05-47e8-c131-f040e50fcb58"
      },
      "source": [
        "df_top10"
      ],
      "execution_count": 35,
      "outputs": [
        {
          "output_type": "execute_result",
          "data": {
            "text/html": [
              "<div>\n",
              "<style scoped>\n",
              "    .dataframe tbody tr th:only-of-type {\n",
              "        vertical-align: middle;\n",
              "    }\n",
              "\n",
              "    .dataframe tbody tr th {\n",
              "        vertical-align: top;\n",
              "    }\n",
              "\n",
              "    .dataframe thead th {\n",
              "        text-align: right;\n",
              "    }\n",
              "</style>\n",
              "<table border=\"1\" class=\"dataframe\">\n",
              "  <thead>\n",
              "    <tr style=\"text-align: right;\">\n",
              "      <th></th>\n",
              "      <th>Neighborhood</th>\n",
              "      <th>Latitude</th>\n",
              "      <th>Longitude</th>\n",
              "      <th>Distance from the City Center (KM)</th>\n",
              "      <th>No. of Venues</th>\n",
              "      <th>No. of Restaurants</th>\n",
              "      <th>No. of Chinese Restaurants</th>\n",
              "      <th>Restaurants/Venues Ratio</th>\n",
              "      <th>Chinese Restaurants/Restaurants Ratio</th>\n",
              "    </tr>\n",
              "  </thead>\n",
              "  <tbody>\n",
              "    <tr>\n",
              "      <th>0</th>\n",
              "      <td>Downtown</td>\n",
              "      <td>42.3557</td>\n",
              "      <td>-71.0572</td>\n",
              "      <td>0.478647</td>\n",
              "      <td>96</td>\n",
              "      <td>25</td>\n",
              "      <td>1</td>\n",
              "      <td>0.260417</td>\n",
              "      <td>0.040000</td>\n",
              "    </tr>\n",
              "    <tr>\n",
              "      <th>1</th>\n",
              "      <td>North End</td>\n",
              "      <td>42.3647</td>\n",
              "      <td>-71.0542</td>\n",
              "      <td>0.559871</td>\n",
              "      <td>84</td>\n",
              "      <td>30</td>\n",
              "      <td>0</td>\n",
              "      <td>0.357143</td>\n",
              "      <td>0.000000</td>\n",
              "    </tr>\n",
              "    <tr>\n",
              "      <th>2</th>\n",
              "      <td>West End</td>\n",
              "      <td>42.3644</td>\n",
              "      <td>-71.0661</td>\n",
              "      <td>1.045930</td>\n",
              "      <td>83</td>\n",
              "      <td>16</td>\n",
              "      <td>0</td>\n",
              "      <td>0.192771</td>\n",
              "      <td>0.000000</td>\n",
              "    </tr>\n",
              "    <tr>\n",
              "      <th>3</th>\n",
              "      <td>Chinatown</td>\n",
              "      <td>42.3501</td>\n",
              "      <td>-71.0624</td>\n",
              "      <td>1.226325</td>\n",
              "      <td>78</td>\n",
              "      <td>40</td>\n",
              "      <td>15</td>\n",
              "      <td>0.512821</td>\n",
              "      <td>0.375000</td>\n",
              "    </tr>\n",
              "    <tr>\n",
              "      <th>4</th>\n",
              "      <td>Beacon Hill</td>\n",
              "      <td>42.3588</td>\n",
              "      <td>-71.0707</td>\n",
              "      <td>1.288336</td>\n",
              "      <td>28</td>\n",
              "      <td>5</td>\n",
              "      <td>0</td>\n",
              "      <td>0.178571</td>\n",
              "      <td>0.000000</td>\n",
              "    </tr>\n",
              "    <tr>\n",
              "      <th>5</th>\n",
              "      <td>Bay Village</td>\n",
              "      <td>42.3490</td>\n",
              "      <td>-71.0698</td>\n",
              "      <td>1.697815</td>\n",
              "      <td>66</td>\n",
              "      <td>5</td>\n",
              "      <td>0</td>\n",
              "      <td>0.075758</td>\n",
              "      <td>0.000000</td>\n",
              "    </tr>\n",
              "    <tr>\n",
              "      <th>6</th>\n",
              "      <td>East Boston</td>\n",
              "      <td>42.3702</td>\n",
              "      <td>-71.0389</td>\n",
              "      <td>1.768092</td>\n",
              "      <td>43</td>\n",
              "      <td>14</td>\n",
              "      <td>1</td>\n",
              "      <td>0.325581</td>\n",
              "      <td>0.071429</td>\n",
              "    </tr>\n",
              "    <tr>\n",
              "      <th>7</th>\n",
              "      <td>Charlestown</td>\n",
              "      <td>42.3782</td>\n",
              "      <td>-71.0602</td>\n",
              "      <td>2.099208</td>\n",
              "      <td>20</td>\n",
              "      <td>1</td>\n",
              "      <td>0</td>\n",
              "      <td>0.050000</td>\n",
              "      <td>0.000000</td>\n",
              "    </tr>\n",
              "    <tr>\n",
              "      <th>8</th>\n",
              "      <td>Back Bay</td>\n",
              "      <td>42.3503</td>\n",
              "      <td>-71.0810</td>\n",
              "      <td>2.373688</td>\n",
              "      <td>93</td>\n",
              "      <td>21</td>\n",
              "      <td>0</td>\n",
              "      <td>0.225806</td>\n",
              "      <td>0.000000</td>\n",
              "    </tr>\n",
              "    <tr>\n",
              "      <th>9</th>\n",
              "      <td>South Boston</td>\n",
              "      <td>42.3381</td>\n",
              "      <td>-71.0476</td>\n",
              "      <td>2.479632</td>\n",
              "      <td>27</td>\n",
              "      <td>4</td>\n",
              "      <td>0</td>\n",
              "      <td>0.148148</td>\n",
              "      <td>0.000000</td>\n",
              "    </tr>\n",
              "  </tbody>\n",
              "</table>\n",
              "</div>"
            ],
            "text/plain": [
              "   Neighborhood  ...  Chinese Restaurants/Restaurants Ratio\n",
              "0      Downtown  ...                               0.040000\n",
              "1     North End  ...                               0.000000\n",
              "2      West End  ...                               0.000000\n",
              "3     Chinatown  ...                               0.375000\n",
              "4   Beacon Hill  ...                               0.000000\n",
              "5   Bay Village  ...                               0.000000\n",
              "6   East Boston  ...                               0.071429\n",
              "7   Charlestown  ...                               0.000000\n",
              "8      Back Bay  ...                               0.000000\n",
              "9  South Boston  ...                               0.000000\n",
              "\n",
              "[10 rows x 9 columns]"
            ]
          },
          "metadata": {
            "tags": []
          },
          "execution_count": 35
        }
      ]
    },
    {
      "cell_type": "markdown",
      "metadata": {
        "id": "rvFTGwgyF9PZ"
      },
      "source": [
        "*Normalize relevant variables*"
      ]
    },
    {
      "cell_type": "code",
      "metadata": {
        "id": "q9ZHTNvFDNpO"
      },
      "source": [
        "from sklearn.preprocessing import MinMaxScaler"
      ],
      "execution_count": 36,
      "outputs": []
    },
    {
      "cell_type": "code",
      "metadata": {
        "id": "gpTnECKHDxRi"
      },
      "source": [
        "scaler = MinMaxScaler()"
      ],
      "execution_count": 37,
      "outputs": []
    },
    {
      "cell_type": "code",
      "metadata": {
        "colab": {
          "base_uri": "https://localhost:8080/"
        },
        "id": "nx712tUhFpbD",
        "outputId": "34d895f7-1d15-4a3f-fa25-ba5c09d4d53d"
      },
      "source": [
        "scaler.fit(df_top10[['Distance from the City Center (KM)', 'No. of Venues', 'Restaurants/Venues Ratio', 'Chinese Restaurants/Restaurants Ratio']])"
      ],
      "execution_count": 38,
      "outputs": [
        {
          "output_type": "execute_result",
          "data": {
            "text/plain": [
              "MinMaxScaler(copy=True, feature_range=(0, 1))"
            ]
          },
          "metadata": {
            "tags": []
          },
          "execution_count": 38
        }
      ]
    },
    {
      "cell_type": "code",
      "metadata": {
        "colab": {
          "base_uri": "https://localhost:8080/"
        },
        "id": "SXVC3g_SD0Vu",
        "outputId": "a9f5d124-e5a2-4fbf-918b-18978ad74305"
      },
      "source": [
        "df_top10[['Norm_Distance', 'Norm_#Venues', 'Norm_Restaurants/Venues Ratio', 'Norm_Chinese Restaurants/Restaurants Ratio']] = scaler.transform(df_top10[['Distance from the City Center (KM)', 'No. of Venues', 'Restaurants/Venues Ratio', 'Chinese Restaurants/Restaurants Ratio']])"
      ],
      "execution_count": 39,
      "outputs": [
        {
          "output_type": "stream",
          "text": [
            "/usr/local/lib/python3.7/dist-packages/pandas/core/indexing.py:659: SettingWithCopyWarning: \n",
            "A value is trying to be set on a copy of a slice from a DataFrame.\n",
            "Try using .loc[row_indexer,col_indexer] = value instead\n",
            "\n",
            "See the caveats in the documentation: https://pandas.pydata.org/pandas-docs/stable/user_guide/indexing.html#returning-a-view-versus-a-copy\n",
            "  self.obj[k] = np.nan\n",
            "/usr/local/lib/python3.7/dist-packages/ipykernel_launcher.py:1: SettingWithCopyWarning: \n",
            "A value is trying to be set on a copy of a slice from a DataFrame.\n",
            "Try using .loc[row_indexer,col_indexer] = value instead\n",
            "\n",
            "See the caveats in the documentation: https://pandas.pydata.org/pandas-docs/stable/user_guide/indexing.html#returning-a-view-versus-a-copy\n",
            "  \"\"\"Entry point for launching an IPython kernel.\n",
            "/usr/local/lib/python3.7/dist-packages/pandas/core/indexing.py:1734: SettingWithCopyWarning: \n",
            "A value is trying to be set on a copy of a slice from a DataFrame.\n",
            "Try using .loc[row_indexer,col_indexer] = value instead\n",
            "\n",
            "See the caveats in the documentation: https://pandas.pydata.org/pandas-docs/stable/user_guide/indexing.html#returning-a-view-versus-a-copy\n",
            "  isetter(loc, value[:, i].tolist())\n"
          ],
          "name": "stderr"
        }
      ]
    },
    {
      "cell_type": "code",
      "metadata": {
        "colab": {
          "base_uri": "https://localhost:8080/",
          "height": 452
        },
        "id": "D7RVYe-qFbKe",
        "outputId": "bb29fd50-73df-4580-d674-4a22fb82d454"
      },
      "source": [
        "df_top10"
      ],
      "execution_count": 40,
      "outputs": [
        {
          "output_type": "execute_result",
          "data": {
            "text/html": [
              "<div>\n",
              "<style scoped>\n",
              "    .dataframe tbody tr th:only-of-type {\n",
              "        vertical-align: middle;\n",
              "    }\n",
              "\n",
              "    .dataframe tbody tr th {\n",
              "        vertical-align: top;\n",
              "    }\n",
              "\n",
              "    .dataframe thead th {\n",
              "        text-align: right;\n",
              "    }\n",
              "</style>\n",
              "<table border=\"1\" class=\"dataframe\">\n",
              "  <thead>\n",
              "    <tr style=\"text-align: right;\">\n",
              "      <th></th>\n",
              "      <th>Neighborhood</th>\n",
              "      <th>Latitude</th>\n",
              "      <th>Longitude</th>\n",
              "      <th>Distance from the City Center (KM)</th>\n",
              "      <th>No. of Venues</th>\n",
              "      <th>No. of Restaurants</th>\n",
              "      <th>No. of Chinese Restaurants</th>\n",
              "      <th>Restaurants/Venues Ratio</th>\n",
              "      <th>Chinese Restaurants/Restaurants Ratio</th>\n",
              "      <th>Norm_Distance</th>\n",
              "      <th>Norm_#Venues</th>\n",
              "      <th>Norm_Restaurants/Venues Ratio</th>\n",
              "      <th>Norm_Chinese Restaurants/Restaurants Ratio</th>\n",
              "    </tr>\n",
              "  </thead>\n",
              "  <tbody>\n",
              "    <tr>\n",
              "      <th>0</th>\n",
              "      <td>Downtown</td>\n",
              "      <td>42.3557</td>\n",
              "      <td>-71.0572</td>\n",
              "      <td>0.478647</td>\n",
              "      <td>96</td>\n",
              "      <td>25</td>\n",
              "      <td>1</td>\n",
              "      <td>0.260417</td>\n",
              "      <td>0.040000</td>\n",
              "      <td>0.000000</td>\n",
              "      <td>1.000000</td>\n",
              "      <td>0.454640</td>\n",
              "      <td>0.106667</td>\n",
              "    </tr>\n",
              "    <tr>\n",
              "      <th>1</th>\n",
              "      <td>North End</td>\n",
              "      <td>42.3647</td>\n",
              "      <td>-71.0542</td>\n",
              "      <td>0.559871</td>\n",
              "      <td>84</td>\n",
              "      <td>30</td>\n",
              "      <td>0</td>\n",
              "      <td>0.357143</td>\n",
              "      <td>0.000000</td>\n",
              "      <td>0.040592</td>\n",
              "      <td>0.842105</td>\n",
              "      <td>0.663633</td>\n",
              "      <td>0.000000</td>\n",
              "    </tr>\n",
              "    <tr>\n",
              "      <th>2</th>\n",
              "      <td>West End</td>\n",
              "      <td>42.3644</td>\n",
              "      <td>-71.0661</td>\n",
              "      <td>1.045930</td>\n",
              "      <td>83</td>\n",
              "      <td>16</td>\n",
              "      <td>0</td>\n",
              "      <td>0.192771</td>\n",
              "      <td>0.000000</td>\n",
              "      <td>0.283502</td>\n",
              "      <td>0.828947</td>\n",
              "      <td>0.308480</td>\n",
              "      <td>0.000000</td>\n",
              "    </tr>\n",
              "    <tr>\n",
              "      <th>3</th>\n",
              "      <td>Chinatown</td>\n",
              "      <td>42.3501</td>\n",
              "      <td>-71.0624</td>\n",
              "      <td>1.226325</td>\n",
              "      <td>78</td>\n",
              "      <td>40</td>\n",
              "      <td>15</td>\n",
              "      <td>0.512821</td>\n",
              "      <td>0.375000</td>\n",
              "      <td>0.373655</td>\n",
              "      <td>0.763158</td>\n",
              "      <td>1.000000</td>\n",
              "      <td>1.000000</td>\n",
              "    </tr>\n",
              "    <tr>\n",
              "      <th>4</th>\n",
              "      <td>Beacon Hill</td>\n",
              "      <td>42.3588</td>\n",
              "      <td>-71.0707</td>\n",
              "      <td>1.288336</td>\n",
              "      <td>28</td>\n",
              "      <td>5</td>\n",
              "      <td>0</td>\n",
              "      <td>0.178571</td>\n",
              "      <td>0.000000</td>\n",
              "      <td>0.404645</td>\n",
              "      <td>0.105263</td>\n",
              "      <td>0.277800</td>\n",
              "      <td>0.000000</td>\n",
              "    </tr>\n",
              "    <tr>\n",
              "      <th>5</th>\n",
              "      <td>Bay Village</td>\n",
              "      <td>42.3490</td>\n",
              "      <td>-71.0698</td>\n",
              "      <td>1.697815</td>\n",
              "      <td>66</td>\n",
              "      <td>5</td>\n",
              "      <td>0</td>\n",
              "      <td>0.075758</td>\n",
              "      <td>0.000000</td>\n",
              "      <td>0.609284</td>\n",
              "      <td>0.605263</td>\n",
              "      <td>0.055653</td>\n",
              "      <td>0.000000</td>\n",
              "    </tr>\n",
              "    <tr>\n",
              "      <th>6</th>\n",
              "      <td>East Boston</td>\n",
              "      <td>42.3702</td>\n",
              "      <td>-71.0389</td>\n",
              "      <td>1.768092</td>\n",
              "      <td>43</td>\n",
              "      <td>14</td>\n",
              "      <td>1</td>\n",
              "      <td>0.325581</td>\n",
              "      <td>0.071429</td>\n",
              "      <td>0.644405</td>\n",
              "      <td>0.302632</td>\n",
              "      <td>0.595439</td>\n",
              "      <td>0.190476</td>\n",
              "    </tr>\n",
              "    <tr>\n",
              "      <th>7</th>\n",
              "      <td>Charlestown</td>\n",
              "      <td>42.3782</td>\n",
              "      <td>-71.0602</td>\n",
              "      <td>2.099208</td>\n",
              "      <td>20</td>\n",
              "      <td>1</td>\n",
              "      <td>0</td>\n",
              "      <td>0.050000</td>\n",
              "      <td>0.000000</td>\n",
              "      <td>0.809882</td>\n",
              "      <td>0.000000</td>\n",
              "      <td>0.000000</td>\n",
              "      <td>0.000000</td>\n",
              "    </tr>\n",
              "    <tr>\n",
              "      <th>8</th>\n",
              "      <td>Back Bay</td>\n",
              "      <td>42.3503</td>\n",
              "      <td>-71.0810</td>\n",
              "      <td>2.373688</td>\n",
              "      <td>93</td>\n",
              "      <td>21</td>\n",
              "      <td>0</td>\n",
              "      <td>0.225806</td>\n",
              "      <td>0.000000</td>\n",
              "      <td>0.947054</td>\n",
              "      <td>0.960526</td>\n",
              "      <td>0.379859</td>\n",
              "      <td>0.000000</td>\n",
              "    </tr>\n",
              "    <tr>\n",
              "      <th>9</th>\n",
              "      <td>South Boston</td>\n",
              "      <td>42.3381</td>\n",
              "      <td>-71.0476</td>\n",
              "      <td>2.479632</td>\n",
              "      <td>27</td>\n",
              "      <td>4</td>\n",
              "      <td>0</td>\n",
              "      <td>0.148148</td>\n",
              "      <td>0.000000</td>\n",
              "      <td>1.000000</td>\n",
              "      <td>0.092105</td>\n",
              "      <td>0.212065</td>\n",
              "      <td>0.000000</td>\n",
              "    </tr>\n",
              "  </tbody>\n",
              "</table>\n",
              "</div>"
            ],
            "text/plain": [
              "   Neighborhood  ...  Norm_Chinese Restaurants/Restaurants Ratio\n",
              "0      Downtown  ...                                    0.106667\n",
              "1     North End  ...                                    0.000000\n",
              "2      West End  ...                                    0.000000\n",
              "3     Chinatown  ...                                    1.000000\n",
              "4   Beacon Hill  ...                                    0.000000\n",
              "5   Bay Village  ...                                    0.000000\n",
              "6   East Boston  ...                                    0.190476\n",
              "7   Charlestown  ...                                    0.000000\n",
              "8      Back Bay  ...                                    0.000000\n",
              "9  South Boston  ...                                    0.000000\n",
              "\n",
              "[10 rows x 13 columns]"
            ]
          },
          "metadata": {
            "tags": []
          },
          "execution_count": 40
        }
      ]
    },
    {
      "cell_type": "markdown",
      "metadata": {
        "id": "7qSy1_rhr3fa"
      },
      "source": [
        " *Define the score as negatively related to the **distance from the city center**, **Restaurants/Venues Ratio** and **Chinese Restaurants/Restaurants Ratio**, but positively related to the **number of venues**.*"
      ]
    },
    {
      "cell_type": "code",
      "metadata": {
        "id": "yVhnOFyzI9kZ"
      },
      "source": [
        "def get_score(i):\n",
        "  score = - df_top10.loc[i, 'Norm_Distance'] + df_top10.loc[i, 'Norm_#Venues'] - df_top10.loc[i, 'Norm_Restaurants/Venues Ratio'] - df_top10.loc[i, 'Norm_Chinese Restaurants/Restaurants Ratio']\n",
        "  return float(score)"
      ],
      "execution_count": 41,
      "outputs": []
    },
    {
      "cell_type": "code",
      "metadata": {
        "id": "ky8IbCKzKrAX"
      },
      "source": [
        "score_list = [get_score(i) for i in range(10)]"
      ],
      "execution_count": 42,
      "outputs": []
    },
    {
      "cell_type": "code",
      "metadata": {
        "id": "FhOuE8CTP7O0"
      },
      "source": [
        "pd_score_list = pd.DataFrame(score_list)"
      ],
      "execution_count": 43,
      "outputs": []
    },
    {
      "cell_type": "markdown",
      "metadata": {
        "id": "tjcvacgGtCoT"
      },
      "source": [
        "*Normalize the score.*"
      ]
    },
    {
      "cell_type": "code",
      "metadata": {
        "colab": {
          "base_uri": "https://localhost:8080/"
        },
        "id": "kkHtTYzgKtPm",
        "outputId": "e9886fcc-8361-44a0-b2e3-403ffd3d36a9"
      },
      "source": [
        "df_top10['Score'] = scaler.fit_transform(pd_score_list)"
      ],
      "execution_count": 44,
      "outputs": [
        {
          "output_type": "stream",
          "text": [
            "/usr/local/lib/python3.7/dist-packages/ipykernel_launcher.py:1: SettingWithCopyWarning: \n",
            "A value is trying to be set on a copy of a slice from a DataFrame.\n",
            "Try using .loc[row_indexer,col_indexer] = value instead\n",
            "\n",
            "See the caveats in the documentation: https://pandas.pydata.org/pandas-docs/stable/user_guide/indexing.html#returning-a-view-versus-a-copy\n",
            "  \"\"\"Entry point for launching an IPython kernel.\n"
          ],
          "name": "stderr"
        }
      ]
    },
    {
      "cell_type": "code",
      "metadata": {
        "colab": {
          "base_uri": "https://localhost:8080/",
          "height": 452
        },
        "id": "CV1EN6YpMTTO",
        "outputId": "bbc9cb5d-6ea5-4283-9135-082d94c2fc1c"
      },
      "source": [
        "df_top10"
      ],
      "execution_count": 45,
      "outputs": [
        {
          "output_type": "execute_result",
          "data": {
            "text/html": [
              "<div>\n",
              "<style scoped>\n",
              "    .dataframe tbody tr th:only-of-type {\n",
              "        vertical-align: middle;\n",
              "    }\n",
              "\n",
              "    .dataframe tbody tr th {\n",
              "        vertical-align: top;\n",
              "    }\n",
              "\n",
              "    .dataframe thead th {\n",
              "        text-align: right;\n",
              "    }\n",
              "</style>\n",
              "<table border=\"1\" class=\"dataframe\">\n",
              "  <thead>\n",
              "    <tr style=\"text-align: right;\">\n",
              "      <th></th>\n",
              "      <th>Neighborhood</th>\n",
              "      <th>Latitude</th>\n",
              "      <th>Longitude</th>\n",
              "      <th>Distance from the City Center (KM)</th>\n",
              "      <th>No. of Venues</th>\n",
              "      <th>No. of Restaurants</th>\n",
              "      <th>No. of Chinese Restaurants</th>\n",
              "      <th>Restaurants/Venues Ratio</th>\n",
              "      <th>Chinese Restaurants/Restaurants Ratio</th>\n",
              "      <th>Norm_Distance</th>\n",
              "      <th>Norm_#Venues</th>\n",
              "      <th>Norm_Restaurants/Venues Ratio</th>\n",
              "      <th>Norm_Chinese Restaurants/Restaurants Ratio</th>\n",
              "      <th>Score</th>\n",
              "    </tr>\n",
              "  </thead>\n",
              "  <tbody>\n",
              "    <tr>\n",
              "      <th>0</th>\n",
              "      <td>Downtown</td>\n",
              "      <td>42.3557</td>\n",
              "      <td>-71.0572</td>\n",
              "      <td>0.478647</td>\n",
              "      <td>96</td>\n",
              "      <td>25</td>\n",
              "      <td>1</td>\n",
              "      <td>0.260417</td>\n",
              "      <td>0.040000</td>\n",
              "      <td>0.000000</td>\n",
              "      <td>1.000000</td>\n",
              "      <td>0.454640</td>\n",
              "      <td>0.106667</td>\n",
              "      <td>1.000000</td>\n",
              "    </tr>\n",
              "    <tr>\n",
              "      <th>1</th>\n",
              "      <td>North End</td>\n",
              "      <td>42.3647</td>\n",
              "      <td>-71.0542</td>\n",
              "      <td>0.559871</td>\n",
              "      <td>84</td>\n",
              "      <td>30</td>\n",
              "      <td>0</td>\n",
              "      <td>0.357143</td>\n",
              "      <td>0.000000</td>\n",
              "      <td>0.040592</td>\n",
              "      <td>0.842105</td>\n",
              "      <td>0.663633</td>\n",
              "      <td>0.000000</td>\n",
              "      <td>0.853204</td>\n",
              "    </tr>\n",
              "    <tr>\n",
              "      <th>2</th>\n",
              "      <td>West End</td>\n",
              "      <td>42.3644</td>\n",
              "      <td>-71.0661</td>\n",
              "      <td>1.045930</td>\n",
              "      <td>83</td>\n",
              "      <td>16</td>\n",
              "      <td>0</td>\n",
              "      <td>0.192771</td>\n",
              "      <td>0.000000</td>\n",
              "      <td>0.283502</td>\n",
              "      <td>0.828947</td>\n",
              "      <td>0.308480</td>\n",
              "      <td>0.000000</td>\n",
              "      <td>0.901557</td>\n",
              "    </tr>\n",
              "    <tr>\n",
              "      <th>3</th>\n",
              "      <td>Chinatown</td>\n",
              "      <td>42.3501</td>\n",
              "      <td>-71.0624</td>\n",
              "      <td>1.226325</td>\n",
              "      <td>78</td>\n",
              "      <td>40</td>\n",
              "      <td>15</td>\n",
              "      <td>0.512821</td>\n",
              "      <td>0.375000</td>\n",
              "      <td>0.373655</td>\n",
              "      <td>0.763158</td>\n",
              "      <td>1.000000</td>\n",
              "      <td>1.000000</td>\n",
              "      <td>0.000000</td>\n",
              "    </tr>\n",
              "    <tr>\n",
              "      <th>4</th>\n",
              "      <td>Beacon Hill</td>\n",
              "      <td>42.3588</td>\n",
              "      <td>-71.0707</td>\n",
              "      <td>1.288336</td>\n",
              "      <td>28</td>\n",
              "      <td>5</td>\n",
              "      <td>0</td>\n",
              "      <td>0.178571</td>\n",
              "      <td>0.000000</td>\n",
              "      <td>0.404645</td>\n",
              "      <td>0.105263</td>\n",
              "      <td>0.277800</td>\n",
              "      <td>0.000000</td>\n",
              "      <td>0.504255</td>\n",
              "    </tr>\n",
              "    <tr>\n",
              "      <th>5</th>\n",
              "      <td>Bay Village</td>\n",
              "      <td>42.3490</td>\n",
              "      <td>-71.0698</td>\n",
              "      <td>1.697815</td>\n",
              "      <td>66</td>\n",
              "      <td>5</td>\n",
              "      <td>0</td>\n",
              "      <td>0.075758</td>\n",
              "      <td>0.000000</td>\n",
              "      <td>0.609284</td>\n",
              "      <td>0.605263</td>\n",
              "      <td>0.055653</td>\n",
              "      <td>0.000000</td>\n",
              "      <td>0.756798</td>\n",
              "    </tr>\n",
              "    <tr>\n",
              "      <th>6</th>\n",
              "      <td>East Boston</td>\n",
              "      <td>42.3702</td>\n",
              "      <td>-71.0389</td>\n",
              "      <td>1.768092</td>\n",
              "      <td>43</td>\n",
              "      <td>14</td>\n",
              "      <td>1</td>\n",
              "      <td>0.325581</td>\n",
              "      <td>0.071429</td>\n",
              "      <td>0.644405</td>\n",
              "      <td>0.302632</td>\n",
              "      <td>0.595439</td>\n",
              "      <td>0.190476</td>\n",
              "      <td>0.235609</td>\n",
              "    </tr>\n",
              "    <tr>\n",
              "      <th>7</th>\n",
              "      <td>Charlestown</td>\n",
              "      <td>42.3782</td>\n",
              "      <td>-71.0602</td>\n",
              "      <td>2.099208</td>\n",
              "      <td>20</td>\n",
              "      <td>1</td>\n",
              "      <td>0</td>\n",
              "      <td>0.050000</td>\n",
              "      <td>0.000000</td>\n",
              "      <td>0.809882</td>\n",
              "      <td>0.000000</td>\n",
              "      <td>0.000000</td>\n",
              "      <td>0.000000</td>\n",
              "      <td>0.390698</td>\n",
              "    </tr>\n",
              "    <tr>\n",
              "      <th>8</th>\n",
              "      <td>Back Bay</td>\n",
              "      <td>42.3503</td>\n",
              "      <td>-71.0810</td>\n",
              "      <td>2.373688</td>\n",
              "      <td>93</td>\n",
              "      <td>21</td>\n",
              "      <td>0</td>\n",
              "      <td>0.225806</td>\n",
              "      <td>0.000000</td>\n",
              "      <td>0.947054</td>\n",
              "      <td>0.960526</td>\n",
              "      <td>0.379859</td>\n",
              "      <td>0.000000</td>\n",
              "      <td>0.607123</td>\n",
              "    </tr>\n",
              "    <tr>\n",
              "      <th>9</th>\n",
              "      <td>South Boston</td>\n",
              "      <td>42.3381</td>\n",
              "      <td>-71.0476</td>\n",
              "      <td>2.479632</td>\n",
              "      <td>27</td>\n",
              "      <td>4</td>\n",
              "      <td>0</td>\n",
              "      <td>0.148148</td>\n",
              "      <td>0.000000</td>\n",
              "      <td>1.000000</td>\n",
              "      <td>0.092105</td>\n",
              "      <td>0.212065</td>\n",
              "      <td>0.000000</td>\n",
              "      <td>0.239381</td>\n",
              "    </tr>\n",
              "  </tbody>\n",
              "</table>\n",
              "</div>"
            ],
            "text/plain": [
              "   Neighborhood  Latitude  ...  Norm_Chinese Restaurants/Restaurants Ratio     Score\n",
              "0      Downtown   42.3557  ...                                    0.106667  1.000000\n",
              "1     North End   42.3647  ...                                    0.000000  0.853204\n",
              "2      West End   42.3644  ...                                    0.000000  0.901557\n",
              "3     Chinatown   42.3501  ...                                    1.000000  0.000000\n",
              "4   Beacon Hill   42.3588  ...                                    0.000000  0.504255\n",
              "5   Bay Village   42.3490  ...                                    0.000000  0.756798\n",
              "6   East Boston   42.3702  ...                                    0.190476  0.235609\n",
              "7   Charlestown   42.3782  ...                                    0.000000  0.390698\n",
              "8      Back Bay   42.3503  ...                                    0.000000  0.607123\n",
              "9  South Boston   42.3381  ...                                    0.000000  0.239381\n",
              "\n",
              "[10 rows x 14 columns]"
            ]
          },
          "metadata": {
            "tags": []
          },
          "execution_count": 45
        }
      ]
    },
    {
      "cell_type": "markdown",
      "metadata": {
        "id": "0XEfJuI1tI3h"
      },
      "source": [
        "*Rank the neighborhoods according to the score.*"
      ]
    },
    {
      "cell_type": "code",
      "metadata": {
        "id": "wNOZWJxuM7cr"
      },
      "source": [
        "df_top10 = df_top10.sort_values(by=['Score'], axis=0, ascending=False)"
      ],
      "execution_count": 46,
      "outputs": []
    },
    {
      "cell_type": "code",
      "metadata": {
        "id": "-7M2KG62RFZU"
      },
      "source": [
        "df_top10.index = [1,2,3,4,5,6,7,8,9,10]"
      ],
      "execution_count": 47,
      "outputs": []
    },
    {
      "cell_type": "code",
      "metadata": {
        "colab": {
          "base_uri": "https://localhost:8080/",
          "height": 452
        },
        "id": "nuoaaZT_RJlJ",
        "outputId": "7bd0c001-1af9-4bdb-a634-7338d25d5b45"
      },
      "source": [
        "df_top10"
      ],
      "execution_count": 48,
      "outputs": [
        {
          "output_type": "execute_result",
          "data": {
            "text/html": [
              "<div>\n",
              "<style scoped>\n",
              "    .dataframe tbody tr th:only-of-type {\n",
              "        vertical-align: middle;\n",
              "    }\n",
              "\n",
              "    .dataframe tbody tr th {\n",
              "        vertical-align: top;\n",
              "    }\n",
              "\n",
              "    .dataframe thead th {\n",
              "        text-align: right;\n",
              "    }\n",
              "</style>\n",
              "<table border=\"1\" class=\"dataframe\">\n",
              "  <thead>\n",
              "    <tr style=\"text-align: right;\">\n",
              "      <th></th>\n",
              "      <th>Neighborhood</th>\n",
              "      <th>Latitude</th>\n",
              "      <th>Longitude</th>\n",
              "      <th>Distance from the City Center (KM)</th>\n",
              "      <th>No. of Venues</th>\n",
              "      <th>No. of Restaurants</th>\n",
              "      <th>No. of Chinese Restaurants</th>\n",
              "      <th>Restaurants/Venues Ratio</th>\n",
              "      <th>Chinese Restaurants/Restaurants Ratio</th>\n",
              "      <th>Norm_Distance</th>\n",
              "      <th>Norm_#Venues</th>\n",
              "      <th>Norm_Restaurants/Venues Ratio</th>\n",
              "      <th>Norm_Chinese Restaurants/Restaurants Ratio</th>\n",
              "      <th>Score</th>\n",
              "    </tr>\n",
              "  </thead>\n",
              "  <tbody>\n",
              "    <tr>\n",
              "      <th>1</th>\n",
              "      <td>Downtown</td>\n",
              "      <td>42.3557</td>\n",
              "      <td>-71.0572</td>\n",
              "      <td>0.478647</td>\n",
              "      <td>96</td>\n",
              "      <td>25</td>\n",
              "      <td>1</td>\n",
              "      <td>0.260417</td>\n",
              "      <td>0.040000</td>\n",
              "      <td>0.000000</td>\n",
              "      <td>1.000000</td>\n",
              "      <td>0.454640</td>\n",
              "      <td>0.106667</td>\n",
              "      <td>1.000000</td>\n",
              "    </tr>\n",
              "    <tr>\n",
              "      <th>2</th>\n",
              "      <td>West End</td>\n",
              "      <td>42.3644</td>\n",
              "      <td>-71.0661</td>\n",
              "      <td>1.045930</td>\n",
              "      <td>83</td>\n",
              "      <td>16</td>\n",
              "      <td>0</td>\n",
              "      <td>0.192771</td>\n",
              "      <td>0.000000</td>\n",
              "      <td>0.283502</td>\n",
              "      <td>0.828947</td>\n",
              "      <td>0.308480</td>\n",
              "      <td>0.000000</td>\n",
              "      <td>0.901557</td>\n",
              "    </tr>\n",
              "    <tr>\n",
              "      <th>3</th>\n",
              "      <td>North End</td>\n",
              "      <td>42.3647</td>\n",
              "      <td>-71.0542</td>\n",
              "      <td>0.559871</td>\n",
              "      <td>84</td>\n",
              "      <td>30</td>\n",
              "      <td>0</td>\n",
              "      <td>0.357143</td>\n",
              "      <td>0.000000</td>\n",
              "      <td>0.040592</td>\n",
              "      <td>0.842105</td>\n",
              "      <td>0.663633</td>\n",
              "      <td>0.000000</td>\n",
              "      <td>0.853204</td>\n",
              "    </tr>\n",
              "    <tr>\n",
              "      <th>4</th>\n",
              "      <td>Bay Village</td>\n",
              "      <td>42.3490</td>\n",
              "      <td>-71.0698</td>\n",
              "      <td>1.697815</td>\n",
              "      <td>66</td>\n",
              "      <td>5</td>\n",
              "      <td>0</td>\n",
              "      <td>0.075758</td>\n",
              "      <td>0.000000</td>\n",
              "      <td>0.609284</td>\n",
              "      <td>0.605263</td>\n",
              "      <td>0.055653</td>\n",
              "      <td>0.000000</td>\n",
              "      <td>0.756798</td>\n",
              "    </tr>\n",
              "    <tr>\n",
              "      <th>5</th>\n",
              "      <td>Back Bay</td>\n",
              "      <td>42.3503</td>\n",
              "      <td>-71.0810</td>\n",
              "      <td>2.373688</td>\n",
              "      <td>93</td>\n",
              "      <td>21</td>\n",
              "      <td>0</td>\n",
              "      <td>0.225806</td>\n",
              "      <td>0.000000</td>\n",
              "      <td>0.947054</td>\n",
              "      <td>0.960526</td>\n",
              "      <td>0.379859</td>\n",
              "      <td>0.000000</td>\n",
              "      <td>0.607123</td>\n",
              "    </tr>\n",
              "    <tr>\n",
              "      <th>6</th>\n",
              "      <td>Beacon Hill</td>\n",
              "      <td>42.3588</td>\n",
              "      <td>-71.0707</td>\n",
              "      <td>1.288336</td>\n",
              "      <td>28</td>\n",
              "      <td>5</td>\n",
              "      <td>0</td>\n",
              "      <td>0.178571</td>\n",
              "      <td>0.000000</td>\n",
              "      <td>0.404645</td>\n",
              "      <td>0.105263</td>\n",
              "      <td>0.277800</td>\n",
              "      <td>0.000000</td>\n",
              "      <td>0.504255</td>\n",
              "    </tr>\n",
              "    <tr>\n",
              "      <th>7</th>\n",
              "      <td>Charlestown</td>\n",
              "      <td>42.3782</td>\n",
              "      <td>-71.0602</td>\n",
              "      <td>2.099208</td>\n",
              "      <td>20</td>\n",
              "      <td>1</td>\n",
              "      <td>0</td>\n",
              "      <td>0.050000</td>\n",
              "      <td>0.000000</td>\n",
              "      <td>0.809882</td>\n",
              "      <td>0.000000</td>\n",
              "      <td>0.000000</td>\n",
              "      <td>0.000000</td>\n",
              "      <td>0.390698</td>\n",
              "    </tr>\n",
              "    <tr>\n",
              "      <th>8</th>\n",
              "      <td>South Boston</td>\n",
              "      <td>42.3381</td>\n",
              "      <td>-71.0476</td>\n",
              "      <td>2.479632</td>\n",
              "      <td>27</td>\n",
              "      <td>4</td>\n",
              "      <td>0</td>\n",
              "      <td>0.148148</td>\n",
              "      <td>0.000000</td>\n",
              "      <td>1.000000</td>\n",
              "      <td>0.092105</td>\n",
              "      <td>0.212065</td>\n",
              "      <td>0.000000</td>\n",
              "      <td>0.239381</td>\n",
              "    </tr>\n",
              "    <tr>\n",
              "      <th>9</th>\n",
              "      <td>East Boston</td>\n",
              "      <td>42.3702</td>\n",
              "      <td>-71.0389</td>\n",
              "      <td>1.768092</td>\n",
              "      <td>43</td>\n",
              "      <td>14</td>\n",
              "      <td>1</td>\n",
              "      <td>0.325581</td>\n",
              "      <td>0.071429</td>\n",
              "      <td>0.644405</td>\n",
              "      <td>0.302632</td>\n",
              "      <td>0.595439</td>\n",
              "      <td>0.190476</td>\n",
              "      <td>0.235609</td>\n",
              "    </tr>\n",
              "    <tr>\n",
              "      <th>10</th>\n",
              "      <td>Chinatown</td>\n",
              "      <td>42.3501</td>\n",
              "      <td>-71.0624</td>\n",
              "      <td>1.226325</td>\n",
              "      <td>78</td>\n",
              "      <td>40</td>\n",
              "      <td>15</td>\n",
              "      <td>0.512821</td>\n",
              "      <td>0.375000</td>\n",
              "      <td>0.373655</td>\n",
              "      <td>0.763158</td>\n",
              "      <td>1.000000</td>\n",
              "      <td>1.000000</td>\n",
              "      <td>0.000000</td>\n",
              "    </tr>\n",
              "  </tbody>\n",
              "</table>\n",
              "</div>"
            ],
            "text/plain": [
              "    Neighborhood  ...     Score\n",
              "1       Downtown  ...  1.000000\n",
              "2       West End  ...  0.901557\n",
              "3      North End  ...  0.853204\n",
              "4    Bay Village  ...  0.756798\n",
              "5       Back Bay  ...  0.607123\n",
              "6    Beacon Hill  ...  0.504255\n",
              "7    Charlestown  ...  0.390698\n",
              "8   South Boston  ...  0.239381\n",
              "9    East Boston  ...  0.235609\n",
              "10     Chinatown  ...  0.000000\n",
              "\n",
              "[10 rows x 14 columns]"
            ]
          },
          "metadata": {
            "tags": []
          },
          "execution_count": 48
        }
      ]
    },
    {
      "cell_type": "markdown",
      "metadata": {
        "id": "suhaI6rdxvxE"
      },
      "source": [
        "### **5. Results and Discussion**"
      ]
    },
    {
      "cell_type": "markdown",
      "metadata": {
        "id": "X9wFu5phx8EC"
      },
      "source": [
        "According to the ranking, the Top 3 neighborhoods with score over 0.8 are Downtown, West End, and North End. These 3 neighborhoods all have a large number of venues existing, which indicates good living conditions and good for opening a high-end Chinese restaurant."
      ]
    },
    {
      "cell_type": "markdown",
      "metadata": {
        "id": "S0XXD98d0KKl"
      },
      "source": [
        "Among the venues, the number of restaurants, especially Chinese restaurant, is not so significant, which means there can be space to get profits from these 3 neighborhoods' catering industry."
      ]
    },
    {
      "cell_type": "markdown",
      "metadata": {
        "id": "-5PRJyJ40omu"
      },
      "source": [
        "For the other neighborhoods, Back Bay is good in terms of the number of venues and less competitive market, but it is too far away from the city center. Therefore, it is not ideal to open a Chinese restaurant; Chinatown is relatively close to the city center, but it already have a very competive catering market, especially Chinese restaurants. A new Chinese restaurant may find it hard to compete against the incumbents."
      ]
    },
    {
      "cell_type": "markdown",
      "metadata": {
        "id": "VYF8jxLv1v2c"
      },
      "source": [
        "### **6. Conclusion**"
      ]
    },
    {
      "cell_type": "markdown",
      "metadata": {
        "id": "n6lYh6wU3rGv"
      },
      "source": [
        "This project is targeted at the stakeholders who want to open a Chinese restaurant in one of the neighborhoods in Boston. By first finding the ten candidate neighborhoods that are closest to the city center, we then explore these neighborhoods one by one in terms of the number of venues, restaurants and specifically Chinese restaurants. "
      ]
    },
    {
      "cell_type": "markdown",
      "metadata": {
        "id": "KbHenvqL51ul"
      },
      "source": [
        "After the analysis, we propose the Top 3 neighborhoods, i.e., Downtown, West End, North End, which are the most suitable for opening a Chinese restaurant based on the several criteria we consider. Hopefully, these recommendations can be of practical value to the people who are interested."
      ]
    }
  ]
}